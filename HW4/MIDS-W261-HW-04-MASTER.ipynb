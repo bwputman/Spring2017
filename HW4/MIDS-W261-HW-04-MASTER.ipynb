{
 "cells": [
  {
   "cell_type": "code",
   "execution_count": 3,
   "metadata": {
    "collapsed": false
   },
   "outputs": [
    {
     "data": {
      "application/javascript": [
       "/**********************************************************************************************\n",
       "Known Mathjax Issue with Chrome - a rounding issue adds a border to the right of mathjax markup\n",
       "https://github.com/mathjax/MathJax/issues/1300\n",
       "A quick hack to fix this based on stackoverflow discussions: \n",
       "http://stackoverflow.com/questions/34277967/chrome-rendering-mathjax-equations-with-a-trailing-vertical-line\n",
       "**********************************************************************************************/\n",
       "\n",
       "$('.math>span').css(\"border-left-color\",\"transparent\")"
      ],
      "text/plain": [
       "<IPython.core.display.Javascript object>"
      ]
     },
     "metadata": {},
     "output_type": "display_data"
    }
   ],
   "source": [
    "%%javascript\n",
    "/**********************************************************************************************\n",
    "Known Mathjax Issue with Chrome - a rounding issue adds a border to the right of mathjax markup\n",
    "https://github.com/mathjax/MathJax/issues/1300\n",
    "A quick hack to fix this based on stackoverflow discussions: \n",
    "http://stackoverflow.com/questions/34277967/chrome-rendering-mathjax-equations-with-a-trailing-vertical-line\n",
    "**********************************************************************************************/\n",
    "\n",
    "$('.math>span').css(\"border-left-color\",\"transparent\")"
   ]
  },
  {
   "cell_type": "markdown",
   "metadata": {},
   "source": [
    "# MIDS - w261 Machine Learning At Scale\n",
    "__Course Lead:__ Dr James G. Shanahan (__email__ Jimi via  James.Shanahan _AT_ gmail.com)\n",
    "\n",
    "## Assignment - HW4\n",
    "\n",
    "\n",
    "---\n",
    "__Name:__  *Your Name Goes Here*   \n",
    "__Class:__ MIDS w261 (Section *Your Section Goes Here*, e.g., Fall 2016 Group 1)     \n",
    "__Email:__  *Your UC Berkeley Email Goes Here*@iSchool.Berkeley.edu     \n",
    "__StudentId__  123457    __End of StudentId__     \n",
    "__Week:__   4\n",
    "\n",
    "__NOTE:__ please replace `1234567` with your student id above      \n",
    "__Due Time:__ HW is due the Tuesday of the following week by 8AM (West coast time). I.e., Tuesday, Feb 7, 2017 in the case of this homework. "
   ]
  },
  {
   "cell_type": "markdown",
   "metadata": {},
   "source": [
    "# Table of Contents <a name=\"TOC\"></a> \n",
    "\n",
    "1.  [HW Intructions](#1)   \n",
    "2.  [HW References](#2)\n",
    "3.  [HW Problems](#3)   \n",
    "1.  [HW Introduction](#1)   \n",
    "2.  [HW References](#2)\n",
    "3.  [HW  Problems](#3)   \n",
    "    1.0.  [HW4.0](#1.0)   \n",
    "    1.0.  [HW4.1](#1.1)   \n",
    "    1.2.  [HW4.2](#1.2)   \n",
    "    1.3.  [HW4.3](#1.3)    \n",
    "    1.4.  [HW4.4](#1.4)    \n",
    "    1.5.  [HW4.5](#1.5)    \n",
    "    1.6.  [HW4.6](#1.6)    \n",
    "    1.7.  [HW4.7](#1.7)    \n",
    "   "
   ]
  },
  {
   "cell_type": "markdown",
   "metadata": {},
   "source": [
    "<a name=\"1\"></a>\n",
    "# 1 Instructions\n",
    "[Back to Table of Contents](#TOC)\n",
    "\n",
    "MIDS UC Berkeley, Machine Learning at Scale\n",
    "DATSCIW261 ASSIGNMENT #4\n",
    "\n",
    "Version 2017-26-1 \n",
    "\n",
    "\n",
    "### IMPORTANT\n",
    "\n",
    "This homework can be completed locally on your computer \n",
    "\n",
    "### === INSTRUCTIONS for SUBMISSIONS ===   \n",
    "Follow the instructions for submissions carefully.\n",
    "\n",
    "__<span style=\"color:red\">NEW:</span> Going forward, each student will have a `HW-<user>` repository for all assignments.__\n",
    "\n",
    "Click this link to enable you to create a github repo within the MIDS261 Classroom:   \n",
    "https://classroom.github.com/assignment-invitations/3b1d6c8e58351209f9dd865537111ff8   \n",
    "and follow the instructions to create a HW repo.\n",
    "\n",
    "Push the following to your HW github repo into the master branch:\n",
    "* Your local HW4 directory. Your repo file structure should look like this:\n",
    "\n",
    "```\n",
    "HW-<user>\n",
    "    --HW3\n",
    "       |__MIDS-W261-HW-03-<Student_id>.ipnb\n",
    "       |__MIDS-W261-HW-03-<Student_id>.pdf\n",
    "       |__some other hw3 file\n",
    "    --HW4\n",
    "       |__MIDS-W261-HW-04-<Student_id>.ipnb\n",
    "       |__MIDS-W261-HW-04-<Student_id>.pdf\n",
    "       |__some other hw4 file\n",
    "    etc..\n",
    "```    "
   ]
  },
  {
   "cell_type": "markdown",
   "metadata": {},
   "source": [
    "<a name=\"2\">\n",
    "# 2 Useful References\n",
    "[Back to Table of Contents](#TOC)\n",
    "\n",
    "* See async lecture and live lecture"
   ]
  },
  {
   "cell_type": "markdown",
   "metadata": {},
   "source": [
    "<a name=\"3\">\n",
    "# HW Problems\n",
    "[Back to Table of Contents](#TOC)"
   ]
  },
  {
   "cell_type": "markdown",
   "metadata": {},
   "source": [
    "## HW4.0  <a name=\"1.0\"></a>\n",
    "[Back to Table of Contents](#TOC)\n",
    "\n",
    "What is MrJob? How is it different to Hadoop MapReduce? \n",
    "What are the mapper_init, mapper_final(), combiner_final(), reducer_final() methods? When are they called?"
   ]
  },
  {
   "cell_type": "markdown",
   "metadata": {
    "collapsed": true
   },
   "source": [
    "#### What is mrjob? How is it different from Hadoop MapReduce?\n",
    ">Mrjob is a Python package for running Hadoop streaming jobs. \n",
    "Mrjob is a python-based framework that assists you in submitting your job \n",
    "to the Hadoop job tracker and in running each individual step under Hadoop Streaming.\n",
    "Hadoop is a general software implementation for MapReduce programming \n",
    "and the MapReduce execution framework.\n",
    "\n",
    "#### What are the mapper_final(), combiner_final(), reducer_final() methods? When are they called?\n",
    ">These methods run a user-defined action. They are called \n",
    "as part of the life cycle (init, main, and final) of\n",
    "the mapper, combiner, and reducer methods once \n",
    "they have processed all input and have completed execution.\n"
   ]
  },
  {
   "cell_type": "markdown",
   "metadata": {},
   "source": [
    "## HW4.1  <a name=\"1.1\"></a>\n",
    "[Back to Table of Contents](#TOC)\n",
    "What is serialization in the context of MrJob or Hadoop? \n",
    "When it used in these frameworks? \n",
    "What is the default serialization mode for input and outputs for MrJob? "
   ]
  },
  {
   "cell_type": "code",
   "execution_count": 4,
   "metadata": {
    "collapsed": false
   },
   "outputs": [
    {
     "name": "stderr",
     "output_type": "stream",
     "text": [
      "  % Total    % Received % Xferd  Average Speed   Time    Time     Time  Current\n",
      "                                 Dload  Upload   Total   Spent    Left  Speed\n",
      "\r",
      "  0     0    0     0    0     0      0      0 --:--:-- --:--:-- --:--:--     0\r",
      "  0     0    0     0    0     0      0      0 --:--:-- --:--:-- --:--:--     0\r",
      "  0     0    0     0    0     0      0      0 --:--:--  0:00:01 --:--:--     0\r",
      "  5 1389k    5 75752    0     0  28496      0  0:00:49  0:00:02  0:00:47 28488\r",
      " 19 1389k   19  277k    0     0  80791      0  0:00:17  0:00:03  0:00:14 80789\r",
      " 59 1389k   59  820k    0     0   180k      0  0:00:07  0:00:04  0:00:03  180k\r",
      "100 1389k  100 1389k    0     0   257k      0  0:00:05  0:00:05 --:--:--  285k\n"
     ]
    }
   ],
   "source": [
    "%%bash\n",
    "curl -L http://archive.ics.uci.edu/ml/machine-learning-databases/anonymous/anonymous-msweb.data -o anonymous-msweb.data"
   ]
  },
  {
   "cell_type": "markdown",
   "metadata": {
    "collapsed": true
   },
   "source": [
    "#### What is serialization in the context of mrjob or Hadoop?\n",
    ">Serialization is the process of turning structured objects into a byte stream. \n",
    "In the context of Hadoop, serialization is leveraged for compression \n",
    "to reduce network and disk loads. Contrast this to mrjob, where serialization \n",
    "is leveraged to convienentally pass structured objects \n",
    "between mapper, reducer, etc. methods.\n",
    "\n",
    "#### When is it used in these frameworks?\n",
    ">These frameworks accept and use a variety of serializations \n",
    "for input, output, and internal transmissions of data.\n",
    "\n",
    "#### What is the default serialization mode for input and output for mrjob?\n",
    ">For input, the default serialization mode is raw text (RawValueProtocol), \n",
    "and for output (and internal), the default mode is JSON format (JSONProtocol)."
   ]
  },
  {
   "cell_type": "markdown",
   "metadata": {},
   "source": [
    "## HW4.2  <a name=\"1.2\"></a> Preprocess log file data\n",
    "[Back to Table of Contents](#TOC)\n",
    "\n",
    "Recall the Microsoft logfiles data from the async lecture. The logfiles are described are located at:\n",
    "\n",
    "https://kdd.ics.uci.edu/databases/msweb/msweb.html\n",
    "http://archive.ics.uci.edu/ml/machine-learning-databases/anonymous/\n",
    "\n",
    "This dataset captures which areas (Vroots) of www.microsoft.com each user visited in a one-week timeframe in Feburary 1998.\n",
    "\n",
    "\n",
    "#### Data Format\n",
    "<PRE>\n",
    "The data is in an ASCII-based sparse-data format called \"DST\". Each line of the data file starts with a letter which tells the line's type. The three line types of interest are:\n",
    "-- Attribute lines:\n",
    "For example, 'A,1277,1,\"NetShow for PowerPoint\",\"/stream\"'\n",
    "Where:\n",
    "  'A' marks this as an attribute line, \n",
    "  '1277' is the attribute ID number for an area of the website (called a Vroot),\n",
    "  '1' may be ignored, \n",
    "  '\"NetShow for PowerPoint\"' is the title of the Vroot, \n",
    "  '\"/stream\"' is the URL relative to \"http://www.microsoft.com\"\n",
    "\n",
    "Case and Vote Lines:\n",
    "For each user, there is a case line followed by zero or more vote lines.\n",
    "For example:\n",
    "  C,\"10164\",10164\n",
    "  V,1123,1\n",
    "  V,1009,1\n",
    "  V,1052,1\n",
    "Where:\n",
    "  'C' marks this as a case line, \n",
    "  '10164' is the case ID number of a user, \n",
    "  'V' marks the vote lines for this case, \n",
    "  '1123', 1009', 1052' are the attributes ID's of Vroots that a user visited. \n",
    "  '1' may be ignored.\n",
    "</PRE>\n",
    "---\n",
    " Here, you must transform/preprocess the data on a single node (i.e., not on a cluster of nodes) from the following format:\n",
    "\n",
    "- C,\"10001\",10001   #Visitor id 10001\n",
    "- V,1000,1          #Visit by Visitor 10001 to page id 1000\n",
    "- V,1001,1          #Visit by Visitor 10001 to page id 1001\n",
    "- V,1002,1          #Visit by Visitor 10001 to page id 1002\n",
    "- C,\"10002\",10002   #Visitor id 10001\n",
    "- V\n",
    "- Note: #denotes comments\n",
    "\n",
    "\n",
    "to the following format (V, PageID, 1, C, Visitor):\n",
    "\n",
    "- V,1000,1,C, 10001\n",
    "- V,1001,1,C, 10001\n",
    "- V,1002,1,C, 10001\n",
    "\n",
    "Write the python code to accomplish this transformation."
   ]
  },
  {
   "cell_type": "code",
   "execution_count": 5,
   "metadata": {
    "collapsed": true
   },
   "outputs": [],
   "source": [
    "!mkdir Data"
   ]
  },
  {
   "cell_type": "code",
   "execution_count": 6,
   "metadata": {
    "collapsed": false
   },
   "outputs": [
    {
     "name": "stdout",
     "output_type": "stream",
     "text": [
      "  % Total    % Received % Xferd  Average Speed   Time    Time     Time  Current\n",
      "                                 Dload  Upload   Total   Spent    Left  Speed\n",
      "  0     0    0     0    0     0      0      0 --:--:--  0:00:01 --:--:--     0\n",
      "100 48.5M  100 48.5M    0     0   9.8M      0  0:00:04  0:00:04 --:--:-- 16.3M\n",
      "  % Total    % Received % Xferd  Average Speed   Time    Time     Time  Current\n",
      "                                 Dload  Upload   Total   Spent    Left  Speed\n",
      "  0     0    0     0    0     0      0      0 --:--:-- --:--:-- --:--:--     0\n",
      "100 3377k  100 3377k    0     0   520k      0  0:00:06  0:00:06 --:--:--  769k\n",
      "  % Total    % Received % Xferd  Average Speed   Time    Time     Time  Current\n",
      "                                 Dload  Upload   Total   Spent    Left  Speed\n",
      "  0     0    0     0    0     0      0      0 --:--:-- --:--:-- --:--:--     0\n",
      "100 2493k  100 2493k    0     0   911k      0  0:00:02  0:00:02 --:--:-- 1771k\n",
      "  % Total    % Received % Xferd  Average Speed   Time    Time     Time  Current\n",
      "                                 Dload  Upload   Total   Spent    Left  Speed\n",
      "  0     0    0     0    0     0      0      0 --:--:-- --:--:-- --:--:--     0\n",
      "100 31952  100 31952    0     0  24846      0  0:00:01  0:00:01 --:--:-- 24846\n",
      "  % Total    % Received % Xferd  Average Speed   Time    Time     Time  Current\n",
      "                                 Dload  Upload   Total   Spent    Left  Speed\n",
      "100  297k  100  297k    0     0  76599      0  0:00:03  0:00:03 --:--:-- 76587\n"
     ]
    }
   ],
   "source": [
    "!curl -L https://www.dropbox.com/s/vbalm3yva2rr86m/Consumer_Complaints.csv?dl=0 -o Data/Consumer_Complaints.csv\n",
    "!curl -L https://www.dropbox.com/s/zlfyiwa70poqg74/ProductPurchaseData.txt?dl=0 -o Data/ProductPurchaseData.txt\n",
    "!curl -L https://www.dropbox.com/s/6129k2urvbvobkr/topUsers_Apr-Jul_2014_1000-words.txt?dl=0 -o Data/topUsers_Apr-Jul_2014_1000-words.txt\n",
    "!curl -L https://www.dropbox.com/s/w4oklbsoqefou3b/topUsers_Apr-Jul_2014_1000-words_summaries.txt?dl=0 -o Data/topUsers_Apr-Jul_2014_1000-words_summaries.txt\n",
    "!curl -L https://kdd.ics.uci.edu/databases/msweb/anonymous-msweb.data.gz -o Data/anonymous-msweb.data.gz\n",
    "!gunzip Data/anonymous-msweb.data.gz"
   ]
  },
  {
   "cell_type": "code",
   "execution_count": 34,
   "metadata": {
    "collapsed": false
   },
   "outputs": [],
   "source": [
    "#START STUDENT CODE42\n",
    "import re\n",
    "open(\"anonymous-msweb-preprocessed.data\", \"w\").close\n",
    "custID = \"NA\"\n",
    "with open(\"Data/anonymous-msweb.data\", \"r\") as IF:\n",
    "    for line in IF:\n",
    "        line = line.strip()\n",
    "        data = re.split(\",\",line)\n",
    "        if data[0] == \"C\":\n",
    "            custID = data[1]\n",
    "            custID = re.sub(\"\\\"\",\"\",custID)\n",
    "        if data[0] == \"V\" and not custID == \"NA\":\n",
    "            with open(\"anonymous-msweb-preprocessed.data\", \"a\") as OF:\n",
    "                OF.writelines(line+\",\"+\"C\"+\",\"+custID+\"\\n\")\n",
    "        if data[0] == \"A\":\n",
    "            with open(\"anonymous-msweb-URLS.data\", \"a\") as url:\n",
    "                url.writelines(line+\"\\n\")        \n",
    "#END STUDENT CODE42"
   ]
  },
  {
   "cell_type": "code",
   "execution_count": 8,
   "metadata": {
    "collapsed": false
   },
   "outputs": [
    {
     "name": "stdout",
     "output_type": "stream",
     "text": [
      "V,1000,1,C,10001\n",
      "V,1001,1,C,10001\n",
      "V,1002,1,C,10001\n",
      "V,1001,1,C,10002\n",
      "V,1003,1,C,10002\n",
      "V,1001,1,C,10003\n",
      "V,1003,1,C,10003\n",
      "V,1004,1,C,10003\n",
      "V,1005,1,C,10004\n",
      "V,1006,1,C,10005\n",
      "   98654 anonymous-msweb-preprocessed.data\n"
     ]
    }
   ],
   "source": [
    "!head -10 anonymous-msweb-preprocessed.data\n",
    "!wc -l anonymous-msweb-preprocessed.data"
   ]
  },
  {
   "cell_type": "markdown",
   "metadata": {},
   "source": [
    "## HW4.3  <a name=\"1.3\"></a> Find the most frequent pages\n",
    "\n",
    "[Back to Table of Contents](#TOC)\n",
    "\n",
    "Find the 5 most frequently visited pages using MrJob from the output of 4.2 (i.e., transfromed log file)."
   ]
  },
  {
   "cell_type": "code",
   "execution_count": 13,
   "metadata": {
    "collapsed": false
   },
   "outputs": [
    {
     "name": "stdout",
     "output_type": "stream",
     "text": [
      "Overwriting MostFrequentVisits.py\n"
     ]
    }
   ],
   "source": [
    "%%writefile MostFrequentVisits.py\n",
    "#!/usr/bin/env python\n",
    "#START STUDENT CODE43\n",
    "from mrjob.job import MRJob\n",
    "from mrjob.step import MRStep\n",
    "from mrjob.protocol import RawValueProtocol\n",
    "import re    \n",
    " \n",
    "class MostFrequentVisits(MRJob):\n",
    "    \n",
    "    OUTPUT_PROTOCOL = RawValueProtocol\n",
    "    \n",
    "    pages = [\"NA\",\"NA\",\"NA\",\"NA\",\"NA\"]\n",
    "    counts = [0,0,0,0,0]\n",
    "\n",
    "    def steps(self):\n",
    "        return [MRStep(\n",
    "                mapper = self.mapper,\n",
    "                combiner = self.combiner,\n",
    "                reducer = self.reducer,\n",
    "                reducer_final = self.reducer_final\n",
    "                )]\n",
    "    \n",
    "    def mapper(self, _, line):\n",
    "        data = re.split(\",\",line)\n",
    "        pageID = data[1]\n",
    "        yield pageID,1\n",
    "        \n",
    "    def combiner(self,pageID,counts):\n",
    "        count = sum(counts)\n",
    "        yield pageID,count\n",
    "\n",
    "    def reducer(self,pageID,counts):\n",
    "        count = sum(counts)\n",
    "        ix = -1\n",
    "        for i in range(5):\n",
    "            if count > self.counts[i]:\n",
    "                ix = i\n",
    "            else:\n",
    "                break\n",
    "\n",
    "        if ix >= 0:\n",
    "            self.counts.insert(ix+1,count)\n",
    "            self.pages.insert(ix+1,pageID)\n",
    "            self.counts = self.counts[1:6]\n",
    "            self.pages = self.pages[1:6]\n",
    "\n",
    "    def reducer_final(self):\n",
    "        self.counts.reverse()\n",
    "        self.pages.reverse()\n",
    "        \n",
    "        for i in range(5):\n",
    "            yield None,self.pages[i] + \",\" + str(self.counts[i])\n",
    "\n",
    "if __name__ == '__main__':\n",
    "    MostFrequentVisits.run()\n",
    "\n",
    "\n",
    "#END STUDENT CODE43"
   ]
  },
  {
   "cell_type": "code",
   "execution_count": 14,
   "metadata": {
    "collapsed": true
   },
   "outputs": [],
   "source": [
    "!chmod +x MostFrequentVisits.py"
   ]
  },
  {
   "cell_type": "code",
   "execution_count": 15,
   "metadata": {
    "collapsed": false
   },
   "outputs": [
    {
     "name": "stdout",
     "output_type": "stream",
     "text": [
      "Using configs in /etc/mrjob.conf\n",
      "Creating temp directory /var/folders/2f/rb8qqgd55bl77zgchyxsfl7h0000gp/T/MostFrequentVisits.koza.20170217.210409.839281\n",
      "Running step 1 of 1...\n",
      "Streaming final output from /var/folders/2f/rb8qqgd55bl77zgchyxsfl7h0000gp/T/MostFrequentVisits.koza.20170217.210409.839281/output...\n",
      "Removing temp directory /var/folders/2f/rb8qqgd55bl77zgchyxsfl7h0000gp/T/MostFrequentVisits.koza.20170217.210409.839281...\n"
     ]
    }
   ],
   "source": [
    "!./MostFrequentVisits.py anonymous-msweb-preprocessed.data > top5pages.txt "
   ]
  },
  {
   "cell_type": "code",
   "execution_count": 16,
   "metadata": {
    "collapsed": false
   },
   "outputs": [
    {
     "name": "stdout",
     "output_type": "stream",
     "text": [
      "The top 5 pages are:\n",
      "1008,10836\r\n",
      "1034,9383\r\n",
      "1004,8463\r\n",
      "1018,5330\r\n",
      "1017,5108\r\n"
     ]
    }
   ],
   "source": [
    "print \"The top 5 pages are:\"\n",
    "!head -5 top5pages.txt"
   ]
  },
  {
   "cell_type": "markdown",
   "metadata": {},
   "source": [
    "## HW4.4  <a name=\"1.4\"></a> Find the most frequent visitor\n",
    "\n",
    "[Back to Table of Contents](#TOC)\n",
    "\n",
    "Find the most frequent visitor of each page using MrJob and the output of 4.2  (i.e., transfromed log file). In this output please include the webpage URL, webpageID and Visitor ID.  You may get a weird result.  HINT: The maximum visits by any visitor to any given webpage is 1."
   ]
  },
  {
   "cell_type": "code",
   "execution_count": 17,
   "metadata": {
    "collapsed": true
   },
   "outputs": [],
   "source": [
    "from IPython.display import Image, HTML"
   ]
  },
  {
   "cell_type": "code",
   "execution_count": 18,
   "metadata": {
    "collapsed": false
   },
   "outputs": [
    {
     "data": {
      "image/png": "[encoded data removed]",
      "text/plain": [
       "<IPython.core.display.Image object>"
      ]
     },
     "execution_count": 18,
     "metadata": {},
     "output_type": "execute_result"
    }
   ],
   "source": [
    "Image('ms-data.png')"
   ]
  },
  {
   "cell_type": "code",
   "execution_count": 35,
   "metadata": {
    "collapsed": false
   },
   "outputs": [
    {
     "name": "stdout",
     "output_type": "stream",
     "text": [
      "Overwriting mostFrequentVisitors.py\n"
     ]
    }
   ],
   "source": [
    "%%writefile mostFrequentVisitors.py\n",
    "#!/usr/bin/env python\n",
    "#START STUDENT CODE44\n",
    "from mrjob.job import MRJob\n",
    "from mrjob.step import MRStep\n",
    "from mrjob.protocol import RawValueProtocol\n",
    "import re    \n",
    "import operator\n",
    " \n",
    "class mostFrequentVisitors(MRJob):\n",
    "    \n",
    "    OUTPUT_PROTOCOL = RawValueProtocol\n",
    "    \n",
    "    URLs = {}\n",
    "\n",
    "    def steps(self):\n",
    "        return [MRStep(\n",
    "                mapper = self.mapper,\n",
    "                combiner = self.combiner,\n",
    "                reducer_init = self.reducer_init,\n",
    "                reducer = self.reducer\n",
    "                )]\n",
    "    \n",
    "    def mapper(self, _, line):\n",
    "        data = re.split(\",\",line)\n",
    "        pageID = data[1]\n",
    "        custID = data[4]\n",
    "        yield pageID,{custID:1}\n",
    "        \n",
    "    def combiner(self,pageID,visits):\n",
    "        allVisits = {}\n",
    "        for visit in visits:\n",
    "            for custID in visit.keys():\n",
    "                allVisits.setdefault(custID,0)\n",
    "                allVisits[custID] += visit[custID]\n",
    "        yield pageID,allVisits\n",
    "        \n",
    "    def reducer_init(self):\n",
    "        with open(\"anonymous-msweb-URLS.data\", \"r\") as IF:\n",
    "            for line in IF:\n",
    "                line = line.strip()\n",
    "                data = re.split(\",\",line)\n",
    "                URL = data[4]\n",
    "                pageID = data[1]\n",
    "                self.URLs[pageID] = URL\n",
    "\n",
    "    def reducer(self,pageID,visits):\n",
    "        allVisits = {}\n",
    "        for visit in visits:\n",
    "            for custID in visit.keys():\n",
    "                allVisits.setdefault(custID,0)\n",
    "                allVisits[custID] += visit[custID]\n",
    "        custID = max(allVisits.iteritems(), key=operator.itemgetter(1))[0]\n",
    "        yield None,self.URLs[pageID]+\",\"+pageID+\",\"+custID+\",\"+str(allVisits[custID])\n",
    "        \n",
    "if __name__ == '__main__':\n",
    "    mostFrequentVisitors.run()\n",
    "#END STUDENT CODE44"
   ]
  },
  {
   "cell_type": "code",
   "execution_count": 36,
   "metadata": {
    "collapsed": true
   },
   "outputs": [],
   "source": [
    "!chmod +x mostFrequentVisitors.py"
   ]
  },
  {
   "cell_type": "code",
   "execution_count": 37,
   "metadata": {
    "collapsed": false
   },
   "outputs": [
    {
     "name": "stdout",
     "output_type": "stream",
     "text": [
      "Using configs in /etc/mrjob.conf\n",
      "Creating temp directory /var/folders/2f/rb8qqgd55bl77zgchyxsfl7h0000gp/T/mostFrequentVisitors.koza.20170217.211054.864882\n",
      "Running step 1 of 1...\n",
      "Streaming final output from /var/folders/2f/rb8qqgd55bl77zgchyxsfl7h0000gp/T/mostFrequentVisitors.koza.20170217.211054.864882/output...\n",
      "Removing temp directory /var/folders/2f/rb8qqgd55bl77zgchyxsfl7h0000gp/T/mostFrequentVisitors.koza.20170217.211054.864882...\n"
     ]
    }
   ],
   "source": [
    "!./mostFrequentVisitors.py anonymous-msweb-preprocessed.data --file anonymous-msweb-URLS.data > mostFrequentVisitors.txt"
   ]
  },
  {
   "cell_type": "code",
   "execution_count": 38,
   "metadata": {
    "collapsed": false
   },
   "outputs": [
    {
     "name": "stdout",
     "output_type": "stream",
     "text": [
      "\"/regwiz\",1000,36585,1\r\n",
      "\"/support\",1001,23995,1\r\n",
      "\"/athome\",1002,35235,1\r\n",
      "\"/kb\",1003,22469,1\r\n",
      "\"/search\",1004,35540,1\r\n",
      "\"/norge\",1005,10004,1\r\n",
      "\"/misc\",1006,27495,1\r\n",
      "\"/ie_intl\",1007,19492,1\r\n",
      "\"/msdownload\",1008,35236,1\r\n",
      "\"/windows\",1009,23995,1\r\n",
      "\"/vbasic\",1010,20915,1\r\n",
      "\"/officedev\",1011,40152,1\r\n",
      "\"/outlookdev\",1012,37811,1\r\n",
      "\"/vbasicsupport\",1013,32727,1\r\n",
      "\"/officefreestuff\",1014,20914,1\r\n",
      "\"/msexcel\",1015,16662,1\r\n",
      "\"/excel\",1016,33755,1\r\n",
      "\"/products\",1017,37091,1\r\n",
      "\"/isapi\",1018,35237,1\r\n",
      "\"/mspowerpoint\",1019,16765,1\r\n",
      "\"/msdn\",1020,39325,1\r\n",
      "\"/visualc\",1021,35234,1\r\n",
      "\"/truetype\",1022,15906,1\r\n",
      "\"/spain\",1023,16079,1\r\n",
      "\"/iis\",1024,20447,1\r\n"
     ]
    }
   ],
   "source": [
    "!head -25 mostFrequentVisitors.txt"
   ]
  },
  {
   "cell_type": "markdown",
   "metadata": {},
   "source": [
    "## HW4.5  <a name=\"1.5\"></a> Clustering Tweet Dataset\n",
    "\n",
    "[Back to Table of Contents](#TOC)\n",
    "\n",
    "Here you will use a different dataset consisting of word-frequency distributions \n",
    "for 1,000 Twitter users. These Twitter users use language in very different ways,\n",
    "and were classified by hand according to the criteria:\n",
    "\n",
    "0: Human, where only basic human-human communication is observed.\n",
    "\n",
    "1: Cyborg, where language is primarily borrowed from other sources\n",
    "(e.g., jobs listings, classifieds postings, advertisements, etc...).\n",
    "\n",
    "2: Robot, where language is formulaically derived from unrelated sources\n",
    "(e.g., weather/seismology, police/fire event logs, etc...).\n",
    "\n",
    "3: Spammer, where language is replicated to high multiplicity\n",
    "(e.g., celebrity obsessions, personal promotion, etc... )\n",
    "\n",
    "Check out the preprints of  recent research,\n",
    "which spawned this dataset:\n",
    "\n",
    "* http://arxiv.org/abs/1505.04342\n",
    "* http://arxiv.org/abs/1508.01843\n",
    "\n",
    "The main data lie in the accompanying file:\n",
    "\n",
    "* [topUsers_Apr-Jul_2014_1000-words.txt](https://www.dropbox.com/s/6129k2urvbvobkr/topUsers_Apr-Jul_2014_1000-words.txt?dl=0)\n",
    "\n",
    "and are of the form:\n",
    "\n",
    "USERID,CODE,TOTAL,WORD1_COUNT,WORD2_COUNT,...\n",
    ".\n",
    ".\n",
    "\n",
    "where\n",
    "\n",
    "USERID = unique user identifier\n",
    "CODE = 0/1/2/3 class code\n",
    "TOTAL = sum of the word counts\n",
    "\n",
    "Using this data, you will implement a 1000-dimensional K-means algorithm in MrJob on the users\n",
    "by their 1000-dimensional word stripes/vectors using several \n",
    "centroid initializations and values of K.\n",
    "\n",
    "Note that each \"point\" is a user as represented by 1000 words, and that\n",
    "word-frequency distributions are generally heavy-tailed power-laws\n",
    "(often called Zipf distributions), and are very rare in the larger class\n",
    "of discrete, random distributions. For each user you will have to normalize\n",
    "by its \"TOTAL\" column. __Try several parameterizations and initializations__ :\n",
    "\n",
    "* (A) K=4 uniform random centroid-distributions over the 1000 words (generate 1000 random numbers and normalize the vectors)\n",
    "* (B) K=2 perturbation-centroids, randomly perturbed from the aggregated (user-wide) distribution \n",
    "* (C) K=4 perturbation-centroids, randomly perturbed from the aggregated (user-wide) distribution \n",
    "* (D) K=4 \"trained\" centroids, determined by the sums across the classes. Use use the \n",
    "(row-normalized) class-level aggregates as 'trained' starting centroids (i.e., the training is already done for you!).\n",
    "Note that you do not have to compute the aggregated distribution or the \n",
    "class-aggregated distributions, which are rows in the auxiliary file:\n",
    "\n",
    "\n",
    "* [topUsers_Apr-Jul_2014_1000-words_summaries.txt](https://www.dropbox.com/s/w4oklbsoqefou3b/topUsers_Apr-Jul_2014_1000-words_summaries.txt?dl=0)\n",
    "\n",
    "Row 1: Words\n",
    "Row 2: Aggregated distribution across all classes\n",
    "Row 3-6 class-aggregated distributions for clases 0-3\n",
    "For (A),  we select 4 users randomly from a uniform distribution [1,...,1,000]\n",
    "For (B), (C), and (D)  you will have to use data from the auxiliary file: \n",
    "\n",
    "* [topUsers_Apr-Jul_2014_1000-words_summaries.txt](https://www.dropbox.com/s/w4oklbsoqefou3b/topUsers_Apr-Jul_2014_1000-words_summaries.txt?dl=0)\n",
    "\n",
    "This file contains 5 special word-frequency distributions:\n",
    "\n",
    "* (1) The 1000-user-wide aggregate, which you will perturb for initializations\n",
    "in parts (B) and (C), and\n",
    "* (2-5) The 4 class-level aggregates for each of the user-type classes (0/1/2/3)\n",
    "\n",
    "\n",
    "In parts (B) and (C), you will have to perturb the 1000-user aggregate \n",
    "(after initially normalizing by its sum, which is also provided).\n",
    "So if in (B) you want to create 2 perturbations of the aggregate, start\n",
    "with (1), normalize, and generate 1000 random numbers uniformly \n",
    "from the unit interval (0,1) twice (for two centroids), using:"
   ]
  },
  {
   "cell_type": "code",
   "execution_count": 39,
   "metadata": {
    "collapsed": true
   },
   "outputs": [],
   "source": [
    "from numpy import random\n",
    "numbers = random.sample(1000)"
   ]
  },
  {
   "cell_type": "markdown",
   "metadata": {},
   "source": [
    "Take these 1000 numbers and add them (component-wise) to the 1000-user aggregate,\n",
    "and then renormalize to obtain one of your aggregate-perturbed initial centroids."
   ]
  },
  {
   "cell_type": "code",
   "execution_count": 40,
   "metadata": {
    "collapsed": true
   },
   "outputs": [],
   "source": [
    "###################################################################################\n",
    "##Geneate random initial centroids around the global aggregate\n",
    "##Part (B) and (C) of this question\n",
    "###################################################################################\n",
    "def startCentroidsBC(k):\n",
    "    counter = 0\n",
    "    for line in open(\"topUsers_Apr-Jul_2014_1000-words_summaries.txt\").readlines():\n",
    "        if counter == 2:        \n",
    "            data = re.split(\",\",line)\n",
    "            globalAggregate = [float(data[i+3])/float(data[2]) for i in range(1000)]\n",
    "        counter += 1\n",
    "    #perturb the global aggregate for the four initializations    \n",
    "    centroids = []\n",
    "    for i in range(k):\n",
    "        rndpoints = random.sample(1000)\n",
    "        peturpoints = [rndpoints[n]/10+globalAggregate[n] for n in range(1000)]\n",
    "        centroids.append(peturpoints)\n",
    "        total = 0\n",
    "        for j in range(len(centroids[i])):\n",
    "            total += centroids[i][j]\n",
    "        for j in range(len(centroids[i])):\n",
    "            centroids[i][j] = centroids[i][j]/total\n",
    "    return centroids"
   ]
  },
  {
   "cell_type": "markdown",
   "metadata": {},
   "source": [
    "For experiments A, B, C and D and iterate until a threshold (try 0.001) is reached.\n",
    "After convergence, print out a summary of the classes present in each cluster.\n",
    "In particular, report the composition as measured by the total\n",
    "portion of each class type (0-3) contained in each cluster,\n",
    "and discuss your findings and any differences in outcomes across parts A-D."
   ]
  },
  {
   "cell_type": "markdown",
   "metadata": {},
   "source": [
    "<h2>K-Means</h2>\n",
    "K-means is a clustering method that aims to find the positions μi,i=1...k of the clusters that minimize the distance from the data points to the cluster. K-means clustering solves:\n",
    "<br><br>\n",
    "$$\\arg\\min_{c} \\sum_{i=1}^k\\sum_{{x}\\in c_i} d({x},\\mu_i) = \\arg\\min_{c} \\sum_{i=1}^k\\sum_{{x}\\in c_i} \\left\\Vert {x}-\\mu_i \\right\\Vert_2^2$$\n",
    "<br><br>\n",
    "where ${c}_i$ is the set of points that belong to cluster i. The K-means clustering uses the square of the Euclidean distance $d({x},\\mu_i) = \\left\\Vert {x}-\\mu_i \\right\\Vert_2^2$. This problem is not trivial (in fact it is NP-hard), so the K-means algorithm only hopes to find the global minimum, possibly getting stuck in a different solution.\n",
    "\n",
    "<h2>K-means algorithm</h2>\n",
    "\n",
    "The Lloyd's algorithm, mostly known as k-means algorithm, is used to solve the k-means clustering problem and works as follows. First, decide the number of clusters k. Then:\n",
    "\n",
    "<table>\n",
    "<tbody><tr><td>1. Initialize the center of the clusters</td>\n",
    "<td>${\\mu}_i = $ some value $, i=1,...,k$</td>\n",
    "</tr>\n",
    "<tr>\n",
    "<td>2. Attribute the closest cluster to each data point</td>\n",
    "<td>${c}_i = \\{j: d({x}_j, \\mu_i) \\le d({x}_j, \\mu_l),  l \\ne i, j=1,...,n\\}$ </td>\n",
    "</tr>\n",
    "<tr>\n",
    "<td>3. Set the position of each cluster to the mean of all data points belonging to that cluster</td>\n",
    "<td>$\\mu_i = \\frac{1}{|c_i|}\\sum_{j\\in c_i} {x}_j,\\forall i$</td>\n",
    "</tr>\n",
    "<tr><td>4. Repeat steps 2-3 until convergence</td>\n",
    "<td></td>\n",
    "</tr>\n",
    "<tr><td>Notation</td><td>${|c|} = $ number of elements in  ${c}$</td>\n",
    "</tr>\n",
    "</tbody>\n",
    "</table>"
   ]
  },
  {
   "cell_type": "markdown",
   "metadata": {},
   "source": [
    "<h2>Calculating purity</h2>\n",
    "![purity illustration](http://www.candpgeneration.com/images/purity.png)"
   ]
  },
  {
   "cell_type": "code",
   "execution_count": 54,
   "metadata": {
    "collapsed": false
   },
   "outputs": [
    {
     "name": "stdout",
     "output_type": "stream",
     "text": [
      "Writing Kmeans.py\n"
     ]
    }
   ],
   "source": [
    "%%writefile Kmeans.py\n",
    "#!/usr/bin/env python\n",
    "#START STUDENT CODE45\n",
    "\n",
    "from mrjob.job import MRJob\n",
    "from mrjob.step import MRStep\n",
    "import re    \n",
    " \n",
    "class Kmeans(MRJob):\n",
    "\n",
    "    def steps(self):\n",
    "        return [MRStep(\n",
    "                mapper_init = self.mapper_init,\n",
    "                mapper = self.mapper,\n",
    "                combiner = self.combiner,\n",
    "                reducer = self.reducer\n",
    "                )]\n",
    "    \n",
    "    ## mapper_init is responsible for reading in the centroids.\n",
    "    def mapper_init(self):\n",
    "        self.centroid_points = [map(float,s.split('\\n')[0].split(',')) for s in open(\"centroids.txt\").readlines()]\n",
    "    \n",
    "    ## mapper is responsible for finding the centroid \n",
    "    ## that is closest to the user (line), and then\n",
    "    ## passing along the closest centroid's idx with the user vector as:\n",
    "    ## (k,v) = (idx,[users,1,vector])\n",
    "    ## where 'users' initially is a singleton vector, [ID]\n",
    "    \n",
    "    def mapper(self, _, datstr):\n",
    "        total = 0\n",
    "        data = re.split(',',datstr)\n",
    "        ID = data[0]\n",
    "        code = int(data[1])\n",
    "        users = [ID]\n",
    "        codes = [0,0,0,0]\n",
    "        codes[code] = 1\n",
    "        coords = [float(data[i+3])/float(data[2]) for i in range(1000)]\n",
    "        for coord in coords:\n",
    "            total += coord\n",
    "\n",
    "        minDist = 0\n",
    "        IDX = -1\n",
    "        for idx in range(len(self.centroid_points)):\n",
    "            centroid = self.centroid_points[idx]\n",
    "            dist = 0\n",
    "            for ix in range(len(coords)):\n",
    "                dist += (centroid[ix]-coords[ix])**2\n",
    "            dist = dist ** 0.5\n",
    "            if minDist:\n",
    "                if dist < minDist:                    \n",
    "                    minDist = dist\n",
    "                    IDX = idx\n",
    "            else:\n",
    "                minDist = dist\n",
    "                IDX = idx\n",
    "        yield (IDX,[users,1,coords,codes])\n",
    "    \n",
    "    ## combiner takes the mapper output and aggregates (sum) by idx-key\n",
    "    def combiner(self,IDX,data):\n",
    "        N = 0\n",
    "        sumCoords = [0*num for num in range(1000)]\n",
    "        sumCodes = [0,0,0,0]\n",
    "        users = []\n",
    "        for line in data:\n",
    "            users.extend(line[0])\n",
    "            N += line[1]\n",
    "            coords = line[2]\n",
    "            codes = line[3]\n",
    "            sumCoords = [sumCoords[i]+coords[i] for i in range(len(sumCoords))]\n",
    "            sumCodes = [sumCodes[i]+codes[i] for i in range(len(sumCodes))]\n",
    "        yield (IDX,[users,N,sumCoords,sumCodes])\n",
    "\n",
    "    ## reducer finishes aggregating all mapper outputs\n",
    "    ## and then takes the means by idx-key. \n",
    "    def reducer(self,IDX,data):\n",
    "        N = 0\n",
    "        sumCoords = [0*num for num in range(1000)]\n",
    "        sumCodes = [0,0,0,0]        \n",
    "        users = []\n",
    "        for line in data:\n",
    "            users.extend(line[0])\n",
    "            N += line[1]\n",
    "            coords = line[2]\n",
    "            codes = line[3]\n",
    "            sumCoords = [sumCoords[i]+coords[i] for i in range(len(sumCoords))]\n",
    "            sumCodes = [sumCodes[i]+codes[i] for i in range(len(sumCodes))]\n",
    "        centroid = [sumCoords[i]/N for i in range(len(sumCoords))]\n",
    "        yield (IDX,[users,N,centroid,sumCodes])\n",
    "\n",
    "if __name__ == '__main__':\n",
    "    Kmeans.run()\n",
    "\n",
    "\n",
    "#END STUDENT CODE45"
   ]
  },
  {
   "cell_type": "code",
   "execution_count": 68,
   "metadata": {
    "collapsed": false
   },
   "outputs": [],
   "source": [
    "#!head topUsers_Apr-Jul_2014_1000-words_summaries.txt"
   ]
  },
  {
   "cell_type": "code",
   "execution_count": 69,
   "metadata": {
    "collapsed": false
   },
   "outputs": [
    {
     "name": "stdout",
     "output_type": "stream",
     "text": [
      "Overwriting Kmeans_runner.py\n"
     ]
    }
   ],
   "source": [
    "%%writefile Kmeans_runner.py\n",
    "#!/usr/bin/env python\n",
    "#START STUDENT CODE45_RUNNER\n",
    "from numpy import random\n",
    "from Kmeans import Kmeans\n",
    "import re,sys\n",
    "mr_job = Kmeans(args=[\"topUsers_Apr-Jul_2014_1000-words.txt\",\"--file\",\"centroids.txt\"])\n",
    "\n",
    "thresh = 0.0001\n",
    "\n",
    "scriptName,part = sys.argv\n",
    "\n",
    "## only stop when distance is below thresh for all centroids\n",
    "def stopSignal(k,thresh,newCentroids,oldCentroids):\n",
    "    stop = 1\n",
    "    for i in range(k):\n",
    "        dist = 0\n",
    "        for j in range(len(newCentroids[i])): \n",
    "            dist += (newCentroids[i][j] - oldCentroids[i][j]) ** 2\n",
    "        dist = dist ** 0.5\n",
    "        if (dist > thresh):\n",
    "            stop  = 0\n",
    "            break\n",
    "    return stop\n",
    "\n",
    "##################################################################################\n",
    "# Use four centroids from the coding\n",
    "##################################################################################\n",
    "def startCentroidsA():\n",
    "    k = 4\n",
    "    centroids = []\n",
    "    for i in range(k):\n",
    "        rndpoints = random.sample(1000)\n",
    "        total = sum(rndpoints)\n",
    "        centroid = [pt/total for pt in rndpoints]\n",
    "        centroids.append(centroid)\n",
    "    return centroids\n",
    "###################################################################################\n",
    "\n",
    "###################################################################################\n",
    "## Geneate random initial centroids around the global aggregate\n",
    "###################################################################################\n",
    "def startCentroidsBC(k):\n",
    "    counter = 0\n",
    "    for line in open(\"topUsers_Apr-Jul_2014_1000-words_summaries.txt\").readlines():\n",
    "        if counter == 2:        \n",
    "            data = re.split(\",\",line)\n",
    "            globalAggregate = [float(data[i+3])/float(data[2]) for i in range(1000)]\n",
    "        counter += 1\n",
    "    ## perturb the global aggregate for the four initializations    \n",
    "    centroids = []\n",
    "    for i in range(k):\n",
    "        rndpoints = random.sample(1000)\n",
    "        peturpoints = [rndpoints[n]/10+globalAggregate[n] for n in range(1000)]\n",
    "        centroids.append(peturpoints)\n",
    "        total = 0\n",
    "        for j in range(len(centroids[i])):\n",
    "            total += centroids[i][j]\n",
    "        for j in range(len(centroids[i])):\n",
    "            centroids[i][j] = centroids[i][j]/total\n",
    "    return centroids\n",
    "###################################################################################\n",
    "\n",
    "##################################################################################\n",
    "# Use four centroids from the coding\n",
    "##################################################################################\n",
    "def startCentroidsD():\n",
    "    k = 4\n",
    "    centroids = []\n",
    "    counter = 0\n",
    "    for line in open(\"topUsers_Apr-Jul_2014_1000-words_summaries.txt\").readlines():\n",
    "        if counter and counter > 1:        \n",
    "            data = re.split(\",\",line)\n",
    "            coords = [float(data[i+3])/float(data[2]) for i in range(1000)]\n",
    "            centroids.append(coords)\n",
    "        counter += 1\n",
    "    return centroids\n",
    "###################################################################################\n",
    "\n",
    "if part == \"A\":\n",
    "    k = 4\n",
    "    centroids = startCentroidsA()\n",
    "if part == \"B\":\n",
    "    k = 2\n",
    "    centroids = startCentroidsBC(k)\n",
    "if part == \"C\":\n",
    "    k = 4\n",
    "    centroids = startCentroidsBC(k)\n",
    "if part == \"D\":\n",
    "    k = 4\n",
    "    centroids = startCentroidsD()\n",
    "\n",
    "## the totals for each user type\n",
    "numType = [752,91,54,103]\n",
    "numType = [float(numType[i]) for i in range(4)]\n",
    "\n",
    "with open(\"centroids.txt\", 'w+') as f:\n",
    "    for centroid in centroids:\n",
    "        centroid = [str(coord) for coord in centroid]\n",
    "        f.writelines(\",\".join(centroid) + \"\\n\")\n",
    "\n",
    "iterate = 0\n",
    "stop = 0\n",
    "\n",
    "clusters = [\"NA\" for i in range(k)]\n",
    "N = [\"NA\" for i in range(k)]\n",
    "while(not stop):\n",
    "    with mr_job.make_runner() as runner:\n",
    "        runner.run()\n",
    "        oldCentroids = centroids[:]\n",
    "        clusterPurities = []\n",
    "        for line in runner.stream_output():\n",
    "            key,value =  mr_job.parse_output_line(line)\n",
    "            clusters[key] = value[0]\n",
    "            N[key] = value[1]\n",
    "            centroids[key] = value[2]\n",
    "            sumCodes = value[3]\n",
    "            clusterPurities.append(float(max(sumCodes))/float(sum(sumCodes)))\n",
    "        ## update the centroids\n",
    "        with open(\"centroids.txt\", 'w+') as f:\n",
    "            for centroid in centroids:\n",
    "                centroid = [str(coord) for coord in centroid]\n",
    "                f.writelines(\",\".join(centroid) + \"\\n\")\n",
    "        \n",
    "        print str(iterate+1)+\",\"+\",\".join(str(purity) for purity in clusterPurities)\n",
    "        stop = stopSignal(k,thresh,centroids,oldCentroids)\n",
    "        if not iterate:\n",
    "            stop = 0\n",
    "    iterate += 1\n",
    "\n",
    "\n",
    "#END STUDENT CODE45_RUNNER"
   ]
  },
  {
   "cell_type": "code",
   "execution_count": 70,
   "metadata": {
    "collapsed": true
   },
   "outputs": [],
   "source": [
    "!chmod +x Kmeans.py Kmeans_runner.py"
   ]
  },
  {
   "cell_type": "code",
   "execution_count": 71,
   "metadata": {
    "collapsed": false
   },
   "outputs": [],
   "source": [
    "!./Kmeans_runner.py A > purities-A.txt\n",
    "\n",
    "!./Kmeans_runner.py B > purities-B.txt\n",
    "\n",
    "!./Kmeans_runner.py C > purities-C.txt\n",
    "\n",
    "!./Kmeans_runner.py D > purities-D.txt"
   ]
  },
  {
   "cell_type": "code",
   "execution_count": 77,
   "metadata": {
    "collapsed": false
   },
   "outputs": [
    {
     "data": {
      "image/png": "[encoded data removed]",
      "text/plain": [
       "<matplotlib.figure.Figure at 0x10e9cb290>"
      ]
     },
     "metadata": {},
     "output_type": "display_data"
    }
   ],
   "source": [
    "%matplotlib inline\n",
    "from matplotlib import pyplot as plt\n",
    "import numpy as np\n",
    "import re\n",
    "\n",
    "\n",
    "k = 4\n",
    "plt.figure(figsize=(15, 15))\n",
    "iterations = []\n",
    "## function loads data from any of the 4 initializations\n",
    "def loadData(filename):\n",
    "    purities = {}\n",
    "    f = open(filename, 'r')\n",
    "    for line in f:\n",
    "        line  = line.strip()\n",
    "        data = re.split(\",\",line)\n",
    "        iterations.append(int(data[0]))\n",
    "        i = 0\n",
    "        for i in range(len(data)):\n",
    "            if i:\n",
    "                purities.setdefault(i,[])\n",
    "                purities[i].append(float(data[i])) \n",
    "    return purities\n",
    "\n",
    "## load purities for initialization A\n",
    "purities = {}\n",
    "purities = loadData(\"purities-A.txt\")\n",
    "iterations = [i+1 for i in range(len(purities[1]))]\n",
    "\n",
    "## plot purities for initialization A\n",
    "plot.subplot(2,2,1)\n",
    "plot.axis([0.25, max(iterations)+0.25,0.45, 1.01])\n",
    "plot.plot(iterations,purities[1],'b',lw=2)\n",
    "plot.plot(iterations,purities[2],'r',lw=2)\n",
    "plot.plot(iterations,purities[3],'g',lw=2)\n",
    "plot.plot(iterations,purities[4],'black',lw=2)\n",
    "plot.ylabel('Purity',fontsize=15)\n",
    "plot.title(\"A\",fontsize=20)\n",
    "plot.grid(True)\n",
    "\n",
    "## load purities for initialization A\n",
    "purities = {}\n",
    "purities = loadData(\"purities-B.txt\")\n",
    "iterations = [i+1 for i in range(len(purities[1]))]\n",
    "\n",
    "## plot purities for initialization B\n",
    "plot.subplot(2,2,2)\n",
    "plot.axis([0.25, max(iterations)+0.25,0.45, 1.01])\n",
    "plot.plot(iterations,purities[1],'b',lw=2)\n",
    "plot.plot(iterations,purities[2],'r',lw=2)\n",
    "plot.title(\"B\",fontsize=20)\n",
    "plot.grid(True)\n",
    "\n",
    "## load purities for initialization C\n",
    "purities = {}\n",
    "purities = loadData(\"purities-C.txt\")\n",
    "iterations = [i+1 for i in range(len(purities[1]))]\n",
    "\n",
    "## plot purities for initialization C\n",
    "plot.subplot(2,2,3)\n",
    "plot.axis([0.25, max(iterations)+0.25,0.45, 1.01])\n",
    "plot.plot(iterations,purities[1],'b',lw=2)\n",
    "plot.plot(iterations,purities[2],'r',lw=2)\n",
    "plot.plot(iterations,purities[3],'g',lw=2)\n",
    "plot.plot(iterations,purities[4],'black',lw=2)\n",
    "plot.xlabel('Iteration',fontsize=15)\n",
    "plot.ylabel('Purity',fontsize=15)\n",
    "plot.title(\"C\",fontsize=20)\n",
    "plot.grid(True)\n",
    "\n",
    "## load purities for initialization D\n",
    "purities = {}\n",
    "purities = loadData(\"purities-D.txt\")\n",
    "iterations = [i+1 for i in range(len(purities[1]))]\n",
    "\n",
    "## plot purities for initialization D\n",
    "plot.subplot(2,2,4)\n",
    "plot.axis([0.25, max(iterations)+0.25,0.45, 1.01])\n",
    "plot.plot(iterations,purities[1],'b',lw=2)\n",
    "plot.plot(iterations,purities[2],'r',lw=2)\n",
    "plot.plot(iterations,purities[3],'g',lw=2)\n",
    "plot.plot(iterations,purities[4],'black',lw=2)\n",
    "plot.xlabel('Iteration',fontsize=15)\n",
    "plot.title(\"D\",fontsize=20)\n",
    "plot.grid(True)"
   ]
  },
  {
   "cell_type": "markdown",
   "metadata": {
    "collapsed": true
   },
   "source": [
    "### Discussion\n",
    "As a general note, our comparison of initializations must be 'taken with a grain of salt,' \n",
    "as A,B, and C all incorporate some randomization into initialization, \n",
    "leading to results that will vary from run to run.\n",
    "If we wished to compare the randomization initializations with greater confidence,\n",
    "it would be best to run our experiment a number of times, \n",
    "recording purities at convergence, the numbers of iterations before convergence, etc., \n",
    "and summarizing these results across runs.\n",
    "\n",
    "The above being said, in the printout above we can see across those runs with k=4 (A,B, and D), \n",
    "that the 'trained' centroid initializations (D) succeeded in converging in the fewest iterations.\n",
    "In addition, we can see that when D is compared to all other initializations,\n",
    "the top three (most pure) clusters are generally purer (>90%) after convergence,\n",
    "indicating that the labeling of users accompanying the data are likely meaningful.\n",
    "Of all of the initializations, we can see that B performs the worst with regard to \n",
    "cluster purity. However, this not exactly a fair comparison, as the purities of 2 clusters\n",
    "with 4 labels will necessarily be low---it is not possible to isolate all user types!\n",
    "However, if we wished to see the value of this initialization \n",
    "in the context of the dataset, we could take note of whether \n",
    "the two most human classes (0 and 3) are clustered together, \n",
    "and separate from the two most automated classes (1 and 2),\n",
    "which is likely the case, but would require keeping track of the\n",
    "number of each user type present in each cluster (at convergence).\n",
    "\n",
    "Looking closer at D, we can see that one of the clusters is very non-pure, \n",
    "indicating that some users were discordant with respect to their classes, \n",
    "forming a mixed cluster in terms of word-frequency.\n",
    "However, we must be careful not to mislead ourselves while interpreting these results,\n",
    "as we do not know which user class dominates each cluster. Noting that approximately\n",
    "75% of all users are labeled as human, it is possible for all clusters to be dominated\n",
    "by the human class. This however, is not the case, and could be made clear through further analysis,\n",
    "plotting the numbers of each type present in each cluster at convergence\n",
    "(which would also inform us of the fact that the least pure cluster is a split of \n",
    "robots and cyborgs, who can actually be quite similar!)."
   ]
  },
  {
   "cell_type": "markdown",
   "metadata": {},
   "source": [
    "## HW4.6  <a name=\"1.6\"></a> (OPTIONAL) Scaleable K-MEANS++ \n",
    "\n",
    "[Back to Table of Contents](#TOC)\n",
    "\n",
    "Over half a century old and showing no signs of aging,\n",
    "k-means remains one of the most popular data processing\n",
    "algorithms. As is well-known, a proper initialization\n",
    "of k-means is crucial for obtaining a good final solution.\n",
    "The recently proposed k-means++ initialization algorithm\n",
    "achieves this, obtaining an initial set of centers that is provably\n",
    "close to the optimum solution. A major downside of the\n",
    "k-means++ is its inherent sequential nature, which limits its\n",
    "applicability to massive data: one must make k passes over\n",
    "the data to find a good initial set of centers. The paper listed below \n",
    "shows how to drastically reduce the number of passes needed\n",
    "to obtain, in parallel, a good initialization. This is unlike\n",
    "prevailing efforts on parallelizing k-means that have mostly\n",
    "focused on the post-initialization phases of k-means. The \n",
    "proposed initialization algorithm k-means||\n",
    "obtains a nearly optimal solution after a logarithmic number\n",
    "of passes; the paper also shows that in practice a constant\n",
    "number of passes suffices. Experimental evaluation on realworld\n",
    "large-scale data demonstrates that k-means|| outperforms\n",
    "k-means++ in both sequential and parallel settings.\n",
    "\n",
    "Read the following paper entitled \"Scaleable K-MEANS++\" located at:\n",
    "\n",
    "http://theory.stanford.edu/~sergei/papers/vldb12-kmpar.pdf \n",
    "\n",
    "In MrJob, implement K-MEANS|| and compare with a random initializtion when used in \n",
    "conjunction with the kmeans algorithm as an initialization step for the 2D  dataset \n",
    "generated using code in the following notebook:\n",
    "\n",
    "https://www.dropbox.com/s/lbzwmyv0d8rocfq/MrJobKmeans.ipynb?dl=0\n",
    "\n",
    "Plot the initialation centroids and the centroid trajectory as the K-MEANS|| algorithms iterates. \n",
    "Repeat this for a random initalization (i.e., pick a training vector at random for each inital centroid)\n",
    "of the kmeans algorithm. Comment on the trajectories of both algorithms.\n",
    "Report on the number passes over the training data, and time required to run both  clustering algorithms.\n",
    "Also report the rand index score for both algorithms and comment on your findings."
   ]
  },
  {
   "cell_type": "code",
   "execution_count": null,
   "metadata": {
    "collapsed": true
   },
   "outputs": [],
   "source": []
  },
  {
   "cell_type": "markdown",
   "metadata": {},
   "source": [
    "## 4.6.1 (OPTIONAL) Apply K-MEANS||\n",
    "\n",
    "[Back to Table of Contents](#TOC)\n",
    "\n",
    "Apply your implementation of K-MEANS|| to the dataset  in HW 4.5 and compare to the a random initalization (i.e., pick a training vector at random for each inital centroid)of the kmeans algorithm.\n",
    "Report on the number passes over the training data, and time required to run all  clustering algorithms. \n",
    "Also report the rand index score for both algorithms and comment on your findings."
   ]
  },
  {
   "cell_type": "code",
   "execution_count": null,
   "metadata": {
    "collapsed": true
   },
   "outputs": [],
   "source": []
  },
  {
   "cell_type": "markdown",
   "metadata": {},
   "source": [
    "## HW4.7  <a name=\"1.7\"></a> (OPTIONAL) Canopy Clustering\n",
    "\n",
    "[Back to Table of Contents](#TOC)\n",
    "\n",
    "An alternative way to intialize the k-means algorithm is the  canopy clustering. The canopy clustering \n",
    "algorithm is an unsupervised pre-clustering algorithm introduced by Andrew McCallum, Kamal Nigam and \n",
    "Lyle Ungar in 2000. It is often used as preprocessing step for the K-means algorithm or the \n",
    "Hierarchical clustering algorithm. It is intended to speed up clustering operations on large data sets, \n",
    "where using another algorithm directly may be impractical due to the size of the data set.\n",
    "\n",
    "For more details on the Canopy Clustering algorithm see:\n",
    "\n",
    "https://en.wikipedia.org/wiki/Canopy_clustering_algorithm\n",
    "\n",
    "Plot the initialation centroids and the centroid trajectory as the Canopy Clustering based K-MEANS algorithm iterates. \n",
    "Repeat this for a random initalization (i.e., pick a training vector at random for each inital centroid)\n",
    "of the kmeans algorithm. Comment on the trajectories of both algorithms.\n",
    "Report on the number passes over the training data, and time required to run both  clustering algorithms.\n",
    "Also report the rand index score for both algorithms and comment on your findings."
   ]
  },
  {
   "cell_type": "code",
   "execution_count": null,
   "metadata": {
    "collapsed": true
   },
   "outputs": [],
   "source": []
  },
  {
   "cell_type": "markdown",
   "metadata": {},
   "source": [
    "## 4.7.1 Apply Canopy Clustering based K-MEANS\n",
    "\n",
    "[Back to Table of Contents](#TOC)\n",
    "\n",
    "Apply your implementation Canopy Clustering based K-MEANS algorithm to the dataset  in HW 4.5 and compare to the a \n",
    "random initalization (i.e., pick a training vector at random for each inital centroid)of the kmeans algorithm.\n",
    "Report on the number passes over the training data, and time required to run both  clustering algorithms. \n",
    "Also report the rand index score for both algorithms and comment on your findings."
   ]
  },
  {
   "cell_type": "code",
   "execution_count": null,
   "metadata": {
    "collapsed": true
   },
   "outputs": [],
   "source": []
  },
  {
   "cell_type": "markdown",
   "metadata": {},
   "source": [
    "[Back to Table of Contents](#TOC)\n",
    "<center><div class='jumbotron'><h2 style='color:green'>-------  END OF HOWEWORK --------</h2></div></center>"
   ]
  }
 ],
 "metadata": {
  "kernelspec": {
   "display_name": "Python 2",
   "language": "python",
   "name": "python2"
  },
  "language_info": {
   "codemirror_mode": {
    "name": "ipython",
    "version": 2
   },
   "file_extension": ".py",
   "mimetype": "text/x-python",
   "name": "python",
   "nbconvert_exporter": "python",
   "pygments_lexer": "ipython2",
   "version": "2.7.11"
  }
 },
 "nbformat": 4,
 "nbformat_minor": 0
}
