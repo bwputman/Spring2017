{
 "cells": [
  {
   "cell_type": "markdown",
   "metadata": {
    "toc": "true"
   },
   "source": [
    "# Table of Contents\n",
    " <p><div class=\"lev1 toc-item\"><a data-toc-modified-id=\"MIDS---w261-Machine-Learning-At-Scale-1\" href=\"#MIDS---w261-Machine-Learning-At-Scale\"><span class=\"toc-item-num\">1&nbsp;&nbsp;</span>MIDS - w261 Machine Learning At Scale</a></div><div class=\"lev2 toc-item\"><a data-toc-modified-id=\"Assignment---HW5-11\" href=\"#Assignment---HW5\"><span class=\"toc-item-num\">1.1&nbsp;&nbsp;</span>Assignment - HW5</a></div><div class=\"lev1 toc-item\"><a data-toc-modified-id=\"Table-of-Contents--2\" href=\"#Table-of-Contents-\"><span class=\"toc-item-num\">2&nbsp;&nbsp;</span>Table of Contents </a></div><div class=\"lev1 toc-item\"><a data-toc-modified-id=\"1-Instructions-3\" href=\"#1-Instructions\"><span class=\"toc-item-num\">3&nbsp;&nbsp;</span>1 Instructions</a></div><div class=\"lev3 toc-item\"><a data-toc-modified-id=\"IMPORTANT-301\" href=\"#IMPORTANT\"><span class=\"toc-item-num\">3.0.1&nbsp;&nbsp;</span>IMPORTANT</a></div><div class=\"lev3 toc-item\"><a data-toc-modified-id=\"===-INSTRUCTIONS-for-SUBMISSIONS-===-302\" href=\"#===-INSTRUCTIONS-for-SUBMISSIONS-===\"><span class=\"toc-item-num\">3.0.2&nbsp;&nbsp;</span>=== INSTRUCTIONS for SUBMISSIONS ===</a></div><div class=\"lev1 toc-item\"><a data-toc-modified-id=\"2-Useful-References-4\" href=\"#2-Useful-References\"><span class=\"toc-item-num\">4&nbsp;&nbsp;</span></a></div><div class=\"lev1 toc-item\"><a data-toc-modified-id=\"HW-Problems-5\" href=\"#HW-Problems\"><span class=\"toc-item-num\">5&nbsp;&nbsp;</span></a></div><div class=\"lev2 toc-item\"><a data-toc-modified-id=\"3.--HW5.0--data-warehouse;-star-schema-51\" href=\"#3.--HW5.0--data-warehouse;-star-schema\"><span class=\"toc-item-num\">5.1&nbsp;&nbsp;</span>3.  HW5.0  data warehouse; star schema</a></div><div class=\"lev2 toc-item\"><a data-toc-modified-id=\"3.--HW5.1-Databases:-3NF;-denormalized--52\" href=\"#3.--HW5.1-Databases:-3NF;-denormalized-\"><span class=\"toc-item-num\">5.2&nbsp;&nbsp;</span>3.  HW5.1 Databases: 3NF; denormalized </a></div><div class=\"lev2 toc-item\"><a data-toc-modified-id=\"3.--HW5.2--Memory-backed-map-side-53\" href=\"#3.--HW5.2--Memory-backed-map-side\"><span class=\"toc-item-num\">5.3&nbsp;&nbsp;</span>3.  HW5.2  Memory-backed map-side</a></div><div class=\"lev2 toc-item\"><a data-toc-modified-id=\"3.--HW5.2.1-(OPTIONAL)-Almost-stateless-reducer-side-join---54\" href=\"#3.--HW5.2.1-(OPTIONAL)-Almost-stateless-reducer-side-join--\"><span class=\"toc-item-num\">5.4&nbsp;&nbsp;</span>3.  HW5.2.1 (OPTIONAL) Almost stateless reducer-side join  </a></div><div class=\"lev3 toc-item\"><a data-toc-modified-id=\"Solution-541\" href=\"#Solution\"><span class=\"toc-item-num\">5.4.1&nbsp;&nbsp;</span>Solution</a></div><div class=\"lev1 toc-item\"><a data-toc-modified-id=\"5.3-Pairwise-similarity----PHASE-1--6\" href=\"#5.3-Pairwise-similarity----PHASE-1-\"><span class=\"toc-item-num\">6&nbsp;&nbsp;</span>5.3 Pairwise similarity  - PHASE 1 </a></div><div class=\"lev4 toc-item\"><a data-toc-modified-id=\"(1)-Using-the-systems-tests-data-sets,-write-mrjob-code-to-build-the-stripes-6001\" href=\"#(1)-Using-the-systems-tests-data-sets,-write-mrjob-code-to-build-the-stripes\"><span class=\"toc-item-num\">6.0.0.1&nbsp;&nbsp;</span>(1) Using the systems tests data sets, write mrjob code to build the stripes</a></div><div class=\"lev4 toc-item\"><a data-toc-modified-id=\"(2)-Write-mrjob-code-to-build-an-inverted-index-from-the-stripes-6002\" href=\"#(2)-Write-mrjob-code-to-build-an-inverted-index-from-the-stripes\"><span class=\"toc-item-num\">6.0.0.2&nbsp;&nbsp;</span>(2) Write mrjob code to build an inverted index from the stripes</a></div><div class=\"lev4 toc-item\"><a data-toc-modified-id=\"(3)-Using-two-(symmetric)-comparison-methods-of-your-choice-(e.g.,-correlations,-distances,-similarities),-pairwise-compare-all-stripes-(vectors),-and-output-to-a-file.-6003\" href=\"#(3)-Using-two-(symmetric)-comparison-methods-of-your-choice-(e.g.,-correlations,-distances,-similarities),-pairwise-compare-all-stripes-(vectors),-and-output-to-a-file.\"><span class=\"toc-item-num\">6.0.0.3&nbsp;&nbsp;</span>(3) Using two (symmetric) comparison methods of your choice (e.g., correlations, distances, similarities), pairwise compare all stripes (vectors), and output to a file.</a></div><div class=\"lev2 toc-item\"><a data-toc-modified-id=\"HW5.3.1---Run-Systems-tests-locally-on-small-datasets-(PHASE1)--61\" href=\"#HW5.3.1---Run-Systems-tests-locally-on-small-datasets-(PHASE1)-\"><span class=\"toc-item-num\">6.1&nbsp;&nbsp;</span>HW5.3.1   Run Systems tests locally on small datasets (PHASE1) </a></div><div class=\"lev4 toc-item\"><a data-toc-modified-id=\"1:-unit/systems-first-10-lines-6101\" href=\"#1:-unit/systems-first-10-lines\"><span class=\"toc-item-num\">6.1.0.1&nbsp;&nbsp;</span>1: unit/systems first-10-lines</a></div><div class=\"lev4 toc-item\"><a data-toc-modified-id=\"2:-unit/systems-atlas-boon-6102\" href=\"#2:-unit/systems-atlas-boon\"><span class=\"toc-item-num\">6.1.0.2&nbsp;&nbsp;</span>2: unit/systems atlas-boon</a></div><div class=\"lev4 toc-item\"><a data-toc-modified-id=\"3:-unit/systems-stripe-docs-test-6103\" href=\"#3:-unit/systems-stripe-docs-test\"><span class=\"toc-item-num\">6.1.0.3&nbsp;&nbsp;</span>3: unit/systems stripe-docs-test</a></div><div class=\"lev3 toc-item\"><a data-toc-modified-id=\"(1)-build-stripes-for-all-the-test-data-sets---run-the-commands-and-insure-that-your-output-matches-the-output-below-611\" href=\"#(1)-build-stripes-for-all-the-test-data-sets---run-the-commands-and-insure-that-your-output-matches-the-output-below\"><span class=\"toc-item-num\">6.1.1&nbsp;&nbsp;</span>(1) build stripes for all the test data sets - run the commands and insure that your output matches the output below</a></div><div class=\"lev3 toc-item\"><a data-toc-modified-id=\"(2)-Build-Inverted-Index---run-the-commands-and-insure-that-your-output-matches-the-output-below-612\" href=\"#(2)-Build-Inverted-Index---run-the-commands-and-insure-that-your-output-matches-the-output-below\"><span class=\"toc-item-num\">6.1.2&nbsp;&nbsp;</span>(2) Build Inverted Index - run the commands and insure that your output matches the output below</a></div><div class=\"lev3 toc-item\"><a data-toc-modified-id=\"(3)-Calculate-similarities---run-the-commands-and-insure-that-your-output-matches-the-output-below-613\" href=\"#(3)-Calculate-similarities---run-the-commands-and-insure-that-your-output-matches-the-output-below\"><span class=\"toc-item-num\">6.1.3&nbsp;&nbsp;</span>(3) Calculate similarities - run the commands and insure that your output matches the output below</a></div><div class=\"lev4 toc-item\"><a data-toc-modified-id=\"NOTE:-you-must-run-in-hadoop-mode-to-generate-sorted-similarities-6131\" href=\"#NOTE:-you-must-run-in-hadoop-mode-to-generate-sorted-similarities\"><span class=\"toc-item-num\">6.1.3.1&nbsp;&nbsp;</span>NOTE: you must run in hadoop mode to generate sorted similarities</a></div><div class=\"lev1 toc-item\"><a data-toc-modified-id=\"===-END-OF-PHASE-1-===-7\" href=\"#===-END-OF-PHASE-1-===\"><span class=\"toc-item-num\">7&nbsp;&nbsp;</span>=== END OF PHASE 1 ===</a></div>"
   ]
  },
  {
   "cell_type": "markdown",
   "metadata": {},
   "source": [
    "# MIDS - w261 Machine Learning At Scale\n",
    "__Course Lead:__ Dr James G. Shanahan (__email__ Jimi via  James.Shanahan _AT_ gmail.com)\n",
    "\n",
    "## Assignment - HW5\n",
    "\n",
    "\n",
    "---\n",
    "__Name:__  *Your Name Goes Here*   \n",
    "__Class:__ MIDS w261 (Section *Your Section Goes Here*, e.g., Fall 2016 Group 1)     \n",
    "__Email:__  *Your UC Berkeley Email Goes Here*@iSchool.Berkeley.edu     \n",
    "__StudentId__  123457    __End of StudentId__     \n",
    "__Week:__   5\n",
    "\n",
    "__NOTE:__ please replace `1234567` with your student id above      \n",
    "__Due Time:__ HW is due the Tuesday of the following week by 8AM (West coast time). I.e., Tuesday, Feb 14, 2017 in the case of this homework. \n",
    "\n",
    "* __HW5 Phase 1__ \n",
    "This can be done on a local machine (with a unit test on the cloud such as AltaScale's PaaS or on AWS) and is due Tuesday, Week 6 by 8AM (West coast time). It will primarily focus on building a unit/systems and for pairwise similarity calculations pipeline (for stripe documents)\n",
    "\n",
    "* __HW5 Phase 2__ \n",
    "This will require the AltaScale cluster and will be due Tuesday, Feb 21 by 8AM (West coast time). \n",
    "The focus of  HW5 Phase 2  will be to scale up the unit/systems tests to the Google 5 gram corpus. This will be a group exercise \n"
   ]
  },
  {
   "cell_type": "markdown",
   "metadata": {},
   "source": [
    "# Table of Contents <a name=\"TOC\"></a> \n",
    "\n",
    "1.  [HW Intructions](#1)   \n",
    "2.  [HW References](#2)\n",
    "3.  [HW Problems](#3)   \n",
    "1.  [HW Introduction](#1)   \n",
    "2.  [HW References](#2)\n",
    "3.  [HW  Problems](#3)   \n",
    "    5.0.  [HW5.0](#5.0)   \n",
    "    5.1.  [HW5.1](#5.1)   \n",
    "    5.2.  [HW5.2](#5.2)   \n",
    "    5.3.  [HW5.3](#5.3)    \n",
    "    \n",
    "   "
   ]
  },
  {
   "cell_type": "markdown",
   "metadata": {},
   "source": [
    "<a name=\"1\"></a>\n",
    "# 1 Instructions\n",
    "[Back to Table of Contents](#TOC)\n",
    "\n",
    "MIDS UC Berkeley, Machine Learning at Scale   \n",
    "DATSCIW261 ASSIGNMENT #5\n",
    "\n",
    "Version 2017-9-2 \n",
    "\n",
    "\n",
    "### IMPORTANT\n",
    "\n",
    "This homework can be completed locally on your computer \n",
    "\n",
    "### === INSTRUCTIONS for SUBMISSIONS ===   \n",
    "Follow the instructions for submissions carefully.\n",
    "\n",
    "Each student has a `HW-<user>` repository for all assignments.   \n",
    "\n",
    "Click this link to enable you to create a github repo within the MIDS261 Classroom:   \n",
    "https://classroom.github.com/assignment-invitations/3b1d6c8e58351209f9dd865537111ff8   \n",
    "and follow the instructions to create a HW repo.\n",
    "\n",
    "Push the following to your HW github repo into the master branch:\n",
    "* Your local HW5 directory. Your repo file structure should look like this:\n",
    "\n",
    "```\n",
    "HW-<user>\n",
    "    --HW3\n",
    "       |__MIDS-W261-HW-03-<Student_id>.ipynb\n",
    "       |__MIDS-W261-HW-03-<Student_id>.pdf\n",
    "       |__some other hw3 file\n",
    "    --HW4\n",
    "       |__MIDS-W261-HW-04-<Student_id>.ipynb\n",
    "       |__MIDS-W261-HW-04-<Student_id>.pdf\n",
    "       |__some other hw4 file\n",
    "    etc..\n",
    "```    "
   ]
  },
  {
   "cell_type": "markdown",
   "metadata": {},
   "source": [
    "  \n",
    "<a name=\"2\">\n",
    "# 2 Useful References\n",
    "[Back to Table of Contents](#TOC)\n",
    "\n",
    "* See async and live lectures for this week\n",
    "\n",
    "<a name=\"3\">\n",
    "# HW Problems\n",
    "[Back to Table of Contents](#TOC)"
   ]
  },
  {
   "cell_type": "markdown",
   "metadata": {},
   "source": [
    "## 3.  HW5.0  data warehouse; star schema<a name=\"5.0\"></a>\n",
    "[Back to Table of Contents](#TOC)\n",
    "\n",
    "- What is a data warehouse? What is a Star schema? When is it used?"
   ]
  },
  {
   "cell_type": "markdown",
   "metadata": {
    "collapsed": true
   },
   "source": [
    "<img src=\"https://upload.wikimedia.org/wikipedia/commons/4/46/Data_warehouse_overview.JPG\" alt=\"Data Warehouse\"/>\n",
    "\n",
    "<span style=\"font-size:1.5em\">&quot;</span>A data warehouse is a federated repository for all the data that an enterprise's various business systems collect. The repository may be physical or logical.\n",
    "\n",
    "Data warehousing emphasizes the capture of data from diverse sources for useful analysis and access, but does not generally start from the point-of-view of the end user who may need access to specialized, sometimes local databases. The latter idea is known as the data mart.\n",
    "\n",
    "There are two approaches to data warehousing, top down and bottom up. The top down approach spins off data marts for specific groups of users after the complete data warehouse has been created. The bottom up approach builds the data marts first and then combines them into a single, all-encompassing data warehouse.<span style=\"font-size:1.5em\">&quot;</span>   \n",
    "http://searchsqlserver.techtarget.com/definition/data-warehouse\n",
    "<hr>\n",
    "\n",
    "<img src=\"https://upload.wikimedia.org/wikipedia/en/f/fe/Star-schema-example.png\" alt=\"Star Schema\" />\n",
    "<span style=\"font-size:1.5em\">&quot;</span>The star schema is the simplest style of data mart schema and is the approach most widely used to develop data warehouses and dimensional data marts. The star schema consists of one or more fact tables referencing any number of dimension tables. The star schema is an important special case of the snowflake schema, and is more effective for handling simpler queries.   \n",
    "\n",
    "Star schemas are denormalized, meaning the normal rules of normalization applied to transactional relational databases are relaxed during star schema design and implementation. The benefits of star schema denormalization are:\n",
    "\n",
    "- __Simpler queries__ - star schema join logic is generally simpler than the join logic required to retrieve data from a highly normalized transactional schemas.\n",
    "- __Simplified business reporting logic__ - when compared to highly normalized schemas, the star schema simplifies common business reporting logic, such as period-over-period and as-of reporting.\n",
    "- __Query performance gains__ - star schemas can provide performance enhancements for read-only reporting applications when compared to highly normalized schemas.\n",
    "- __Fast aggregations__ - the simpler queries against a star schema can result in improved performance for aggregation operations.\n",
    "- __Feeding cubes__ - star schemas are used by all OLAP systems to build proprietary OLAP cubes efficiently; in fact, most major OLAP systems provide a ROLAP mode of operation which can use a star schema directly as a source without building a proprietary cube structure.<span style=\"font-size:1.5em\">&quot;</span>   \n",
    "https://en.wikipedia.org/wiki/Star_schema"
   ]
  },
  {
   "cell_type": "markdown",
   "metadata": {},
   "source": [
    "## 3.  HW5.1 Databases: 3NF; denormalized <a name=\"5.1\"></a>\n",
    "[Back to Table of Contents](#TOC)\n",
    "\n",
    "- In the database world What is 3NF? Does machine learning use data in 3NF? If so why? \n",
    "- In what form does ML consume data?\n",
    "- Why would one use log files that are denormalized?"
   ]
  },
  {
   "cell_type": "markdown",
   "metadata": {
    "collapsed": true
   },
   "source": [
    "3NF, or Third normal form is a normal form that is used in normalizing a database design to reduce the duplication of data and ensure referential integrity by ensuring that (1) the entity is in second normal form, and (2) all the attributes in a table are determined only by the candidate keys of that table and not by any non-prime attributes. 3NF was designed to improve database processing while minimizing storage costs. 3NF data modeling was ideal for online transaction processing (OLTP) applications with heavy order entry type of needs. [1]\n",
    "\n",
    "While 3NF was ideal for machine processing, the segmented nature of the data model is not ideal for Machine Learning applications. Most Machine Learning algorithms require data to be in a single text file in tabular format, with each row representing a full instance of the input dataset and each column one of its features.[2]\n",
    "\n",
    "One would use log files that are denormalized so as to provide the machine learning framework the most amount of context to operate on. That is, the more data is provided in each log or record, the more options the data scientist has to produce features for the ML framework to learn on. Additionally, given the distributed and sequential nature of the MapReduce framework that supports most of modern ML at scale, denormalized log data has the representational redundancy that would permit the processing of the data in a parallel fashion.\n",
    "\n",
    "references:  \n",
    "[1] https://en.wikipedia.org/wiki/Third_normal_form#Definition_of_third_normal_form   \n",
    "[2] https://blog.bigml.com/2013/10/30/data-preparation-for-machine-learning-using-mysql/   "
   ]
  },
  {
   "cell_type": "markdown",
   "metadata": {},
   "source": [
    "## 3.  HW5.2  Memory-backed map-side<a name=\"5.2\"></a>\n",
    "[Back to Table of Contents](#TOC)\n",
    "\n",
    "Using MRJob, implement a hashside join (memory-backed map-side) for left, right and inner joins. Use the following tables for this HW and join based on the country code (third column of the transactions table and the second column of the Countries table:\n",
    "\n",
    "<PRE>\n",
    "transactions.dat\n",
    "Alice Bob|$10|US\n",
    "Sam Sneed|$1|CA\n",
    "Jon Sneed|$20|CA\n",
    "Arnold Wesise|$400|UK\n",
    "Henry Bob|$2|US\n",
    "Yo Yo Ma|$2|CA\n",
    "Jon York|$44|CA\n",
    "Alex Ball|$5|UK\n",
    "Jim Davis|$66|JA\n",
    "\n",
    "Countries.dat\n",
    "United States|US\n",
    "Canada|CA\n",
    "United Kingdom|UK\n",
    "Italy|IT\n",
    "\n",
    "</PRE>\n",
    "\n",
    "Justify which table you chose as the Left table in this hashside join.\n",
    "\n",
    "Please report the number of rows resulting from:\n",
    "\n",
    "- (1) Left joining Table Left with Table Right\n",
    "- (2) Right joining Table Left with Table Right\n",
    "- (3) Inner joining Table Left with Table Right\n"
   ]
  },
  {
   "cell_type": "code",
   "execution_count": 58,
   "metadata": {
    "collapsed": false
   },
   "outputs": [
    {
     "name": "stdout",
     "output_type": "stream",
     "text": [
      "Overwriting Countries.dat\n"
     ]
    }
   ],
   "source": [
    "%%writefile Countries.dat\n",
    "United States,US\n",
    "Canada,CA\n",
    "United Kingdom,UK\n",
    "Italy,IT"
   ]
  },
  {
   "cell_type": "code",
   "execution_count": 59,
   "metadata": {
    "collapsed": false
   },
   "outputs": [
    {
     "name": "stdout",
     "output_type": "stream",
     "text": [
      "Overwriting transactions.dat\n"
     ]
    }
   ],
   "source": [
    "%%writefile transactions.dat\n",
    "Alice Bob,$10,US\n",
    "Sam Sneed,$1,CA\n",
    "Jon Sneed,$20,CA\n",
    "Arnold Wesise,$400,UK\n",
    "Henry Bob,$2,US\n",
    "Yo Yo Ma,$2,CA\n",
    "Jon York,$44,CA\n",
    "Alex Ball,$5,UK\n",
    "Jim Davis,$66,JA"
   ]
  },
  {
   "cell_type": "code",
   "execution_count": 60,
   "metadata": {
    "collapsed": false
   },
   "outputs": [
    {
     "name": "stdout",
     "output_type": "stream",
     "text": [
      "Overwriting performJoins.py\n"
     ]
    }
   ],
   "source": [
    "%%writefile performJoins.py\n",
    "#!~/anaconda2/bin/python\n",
    "# -*- coding: utf-8 -*-\n",
    "\n",
    "import csv\n",
    "import re\n",
    "\n",
    "import mrjob\n",
    "from mrjob.protocol import RawValueProtocol\n",
    "from mrjob.job import MRJob\n",
    "from mrjob.step import MRStep\n",
    "\n",
    "from mrjob.util import log_to_stream\n",
    "log_to_stream(level='ERROR')\n",
    "\n",
    "\n",
    "class performJoins(MRJob):\n",
    "    OUTPUT_PROTOCOL = RawValueProtocol\n",
    "\n",
    "    def steps(self):\n",
    "        JOBCONF_STEP = {        \n",
    "           'mapreduce.job.maps': '1' \n",
    "            # It's not really possible to do a left outer join\n",
    "            # with multiple mappers without using a reducer\n",
    "            # (at least not without some crazy flag hacking).\n",
    "            # Thus to meet the constraint, specifing one mapper.\n",
    "            # This is a less than ideal solution, as there is \n",
    "            # no guarantee that the framework will observe this\n",
    "            # setting.\n",
    "        }\n",
    "        return [MRStep(\n",
    "            jobconf=JOBCONF_STEP,    \n",
    "            mapper_init = self.mapper_init,\n",
    "            mapper = self.mapper,\n",
    "            mapper_final = self.mapper_final\n",
    "        )]\n",
    "\n",
    "    def mapper_init(self):\n",
    "        self.URLS = {}\n",
    "        self.URLS_ONRIGHT = {}\n",
    "        self.left = 0\n",
    "        self.right = 0\n",
    "        self.inner = 0\n",
    "        f= open(\"Countries.dat\",\"r\")\n",
    "        for line in f:\n",
    "            line = line.strip()\n",
    "            data = re.split(\",\",line)\n",
    "            # generate left table\n",
    "            self.URLS[data[1]] = data[0]\n",
    "\n",
    "    def mapper(self,_,line):\n",
    "        line = line.strip()\n",
    "        data = re.split(\",\",line)\n",
    "        key = data[2]\n",
    "        if key in self.URLS.keys():\n",
    "            self.inner += 1\n",
    "            self.left += 1\n",
    "            self.right += 1\n",
    "            # generate right table for use in final mapper:\n",
    "            self.URLS_ONRIGHT[key] = self.URLS[key]\n",
    "        else:\n",
    "            # the key does not exist in the left table (the urls-table)\n",
    "            # increment only the right (customers-table which is being streamed in)\n",
    "            self.right += 1\n",
    "        \n",
    "    \n",
    "    def mapper_final(self):\n",
    "        for key in self.URLS.keys():\n",
    "            if key not in self.URLS_ONRIGHT.keys():\n",
    "                 self.left += 1\n",
    "        yield None, \"left-joined \"+str(self.left)+\" rows.\"\n",
    "        yield None, \"right-joined \"+str(self.right)+ \" rows.\"\n",
    "        yield None, \"inner-joined \"+str(self.inner)+ \" rows.\"\n",
    "        \n",
    "\n",
    "        \n",
    "if __name__ == '__main__':\n",
    "    performJoins.run()"
   ]
  },
  {
   "cell_type": "code",
   "execution_count": 61,
   "metadata": {
    "collapsed": false,
    "scrolled": true
   },
   "outputs": [
    {
     "name": "stdout",
     "output_type": "stream",
     "text": [
      "Using configs in /etc/mrjob.conf\r\n",
      "Creating temp directory /var/folders/2f/rb8qqgd55bl77zgchyxsfl7h0000gp/T/performJoins.koza.20170216.010058.519102\r\n",
      "Running step 1 of 1...\r\n",
      "Streaming final output from /var/folders/2f/rb8qqgd55bl77zgchyxsfl7h0000gp/T/performJoins.koza.20170216.010058.519102/output...\r\n",
      "Removing temp directory /var/folders/2f/rb8qqgd55bl77zgchyxsfl7h0000gp/T/performJoins.koza.20170216.010058.519102...\r\n"
     ]
    }
   ],
   "source": [
    "!python performJoins.py transactions.dat --file Countries.dat > joins_output.csv"
   ]
  },
  {
   "cell_type": "code",
   "execution_count": 62,
   "metadata": {
    "collapsed": false
   },
   "outputs": [
    {
     "name": "stdout",
     "output_type": "stream",
     "text": [
      "left-joined 9 rows.\r\n",
      "right-joined 9 rows.\r\n",
      "inner-joined 8 rows.\r\n"
     ]
    }
   ],
   "source": [
    "!cat joins_output.csv"
   ]
  },
  {
   "cell_type": "markdown",
   "metadata": {},
   "source": [
    "## 3.  HW5.2.1 (OPTIONAL) Almost stateless reducer-side join  <a name=\"5.2.1\"></a>\n",
    "[Back to Table of Contents](#TOC)\n",
    "\n",
    "The following MRJob code, implements a reduce-side join for an inner join. The reducer is almost stateless, i.e., uses as little memory as possible. Use the tables from HW5.2 for this HW and join based on the country code (third column of the transactions table and the second column of the Countries table perform. Perform  an left, right, inner joins using the code provided below and report the number of rows resulting from:\n",
    "\n",
    "- (1) Left joining Table Left with Table Right\n",
    "- (2) Right joining Table Left with Table Right\n",
    "- (3) Inner joining Table Left with Table Right\n",
    "\n",
    "Again make smart decisions about which table should be the left table (i.e., crosscheck the code). \n",
    "\n",
    "__Some notes on the code__ \n",
    "Here, the mapper receives its set of input splits either from the transaction table or from the countries table and makes the appropriate transformations: splitting the line into fields, and emitting a key/value. The key is the join key - in this case, the country code field of both sets of records. The mapper knows which file and type of record it is receiving based on the length of the fields. The records it emits contain the join field as the key, which acts as the partitioning key; We use the SORT_VALUES option, which ensures the values are sorted as well. Then, we employ a trick to ensure that for each join key, country records are seen always before transaction records. We achieve this by adding an arbitrary key to the front of the value: 'A' for countries, 'B' for customers. This makes countries sort before customers for each and every join/partition key. After that trick, the join is simply a matter of storing countries ('A' records) and crossing this array with each customer record."
   ]
  },
  {
   "cell_type": "code",
   "execution_count": null,
   "metadata": {
    "collapsed": true
   },
   "outputs": [],
   "source": [
    "import sys, os, re\n",
    "from mrjob.job import MRJob\n",
    "\n",
    "class MRJoin(MRJob):\n",
    "\n",
    "  # Performs secondary sort\n",
    "  SORT_VALUES = True\n",
    "\n",
    "  def mapper(self, _, line):\n",
    "    splits = line.rstrip(\"\\n\").split(\"|\")\n",
    "\n",
    "    if len(splits) == 2: # country data\n",
    "      symbol = 'A' # make country sort before transaction data\n",
    "      country2digit = splits[1]\n",
    "      yield country2digit, [symbol, splits]\n",
    "    else: # person data\n",
    "      symbol = 'B'\n",
    "      country2digit = splits[2]\n",
    "      yield country2digit, [symbol, splits]\n",
    "\n",
    "  def reducer(self, key, values):\n",
    "    countries = [] # should come first, as they are sorted on artificia key 'A'\n",
    "    for value in values:\n",
    "      if value[0] == 'A':\n",
    "        countries.append(value)\n",
    "      if value[0] == 'B':\n",
    "        for country in countries:\n",
    "          yield key, country[1:] + value[1:]\n",
    "\n",
    "if __name__ == '__main__':\n",
    "  MRJoin.run()"
   ]
  },
  {
   "cell_type": "markdown",
   "metadata": {},
   "source": [
    "### Solution\n",
    "(thanks Shawn Kessler Spring 2017)"
   ]
  },
  {
   "cell_type": "code",
   "execution_count": null,
   "metadata": {
    "collapsed": true
   },
   "outputs": [],
   "source": [
    "%%writefile OptionalJoins.py\n",
    "\n",
    "import sys, os, re\n",
    "from mrjob.job import MRJob\n",
    "\n",
    "class MRJoin(MRJob):\n",
    "\n",
    "  # Performs secondary sort\n",
    "  SORT_VALUES = True\n",
    "\n",
    "  def mapper(self, _, line):\n",
    "    splits = line.rstrip(\"\\n\").split(\"|\")\n",
    "\n",
    "    if len(splits) == 2: # country data\n",
    "      symbol = 'A' # make country sort before transaction data\n",
    "      country2digit = splits[1]\n",
    "      yield country2digit, [symbol, splits]\n",
    "    else: # person data\n",
    "      symbol = 'B'\n",
    "      country2digit = splits[2]\n",
    "      yield country2digit, [symbol, splits]\n",
    "\n",
    "  def reducer(self, key, values):\n",
    "    countries = [] # should come first, as they are sorted on artificia key 'A'\n",
    "    for value in values:\n",
    "      if value[0] == 'A':\n",
    "        countries.append(value)\n",
    "      if value[0] == 'B':\n",
    "        for country in countries:\n",
    "          yield key, country[1:] + value[1:]\n",
    "\n",
    "class MRLeftJoin(MRJoin):\n",
    "  def reducer(self, key, values):\n",
    "    countries = [] # should come first, as they are sorted on artificia key 'A'\n",
    "    transactionSeen = False\n",
    "    for value in values:\n",
    "      if value[0] == 'A':\n",
    "        countries.append(value)\n",
    "      if value[0] == 'B':\n",
    "        transactionSeen = True\n",
    "        for country in countries:\n",
    "          yield key, country[1:] + value[1:]    \n",
    "    if not transactionSeen:\n",
    "        yield key, (value, None)\n",
    "    \n",
    "class MRRightJoin(MRJoin):\n",
    "  def reducer(self, key, values):\n",
    "    countries = [] # should come first, as they are sorted on artificia key 'A'\n",
    "    for value in values:\n",
    "      if value[0] == 'A':\n",
    "        countries.append(value)\n",
    "      if value[0] == 'B':\n",
    "        if countries:\n",
    "            for country in countries:\n",
    "                yield key, country[1:] + value[1:]      \n",
    "        else:\n",
    "            yield value[1][2], (None, value[1:])\n",
    "                \n",
    "    \n",
    "if __name__ == '__main__':\n",
    "  MRJoin.run()"
   ]
  },
  {
   "cell_type": "code",
   "execution_count": null,
   "metadata": {
    "collapsed": true
   },
   "outputs": [],
   "source": [
    "%%writefile JoinOptionalRunner.py\n",
    "\n",
    "from OptionalJoins import MRJoin, MRLeftJoin, MRRightJoin\n",
    "\n",
    "for join_type in [MRJoin, MRLeftJoin, MRRightJoin]:\n",
    "    mr_job = join_type([\"transactions.dat\", \"Countries.dat\"])    \n",
    "    with mr_job.make_runner() as runner:\n",
    "        runner.run()\n",
    "        counter = 0\n",
    "        for line in runner.stream_output():\n",
    "            counter += 1\n",
    "            key, value = mr_job.parse_output_line(line)\n",
    "            print key, value\n",
    "        print '\"%s\" join count: %d rows\\n' % (mr_job, counter)"
   ]
  },
  {
   "cell_type": "code",
   "execution_count": null,
   "metadata": {
    "collapsed": true
   },
   "outputs": [],
   "source": [
    "!chmod +x *.py \n",
    "!python JoinOptionalRunner.py"
   ]
  },
  {
   "cell_type": "markdown",
   "metadata": {},
   "source": [
    "# 5.3 Pairwise similarity  - PHASE 1 <a name=\"5.3\"></a>\n",
    "\n",
    "In this part of the assignment we will focus on developing methods for detecting synonyms, using the Google 5-grams dataset. To accomplish this you must script two main tasks using MRJob:\n",
    "\n",
    "\n",
    "#### (1) Using the systems tests data sets, write mrjob code to build the stripes\n",
    "#### (2) Write mrjob code to build an inverted index from the stripes\n",
    "#### (3) Using two (symmetric) comparison methods of your choice (e.g., correlations, distances, similarities), pairwise compare all stripes (vectors), and output to a file.   \n",
    "\n",
    "__==Design notes for (1)== __  \n",
    "For this task you will be able to modify the pattern we used in HW 3.2 (feel free to use the solution as reference). To total the word counts across the n-grams, output the support from the mappers using the total order inversion pattern:\n",
    "\n",
    "<*word,count>   \n",
    "\n",
    "to ensure that the support arrives before the cooccurrences.   \n",
    "\n",
    "In addition to ensuring the determination of the total word counts, the mapper must also output co-occurrence counts for the pairs of words inside of each n-gram. Treat these words as a basket, as we have in HW 3, but count all stripes or pairs in both orders, i.e., count both orderings: (word1,word2), and (word2,word1), to preserve\n",
    "symmetry in our output for (2).\n",
    "\n",
    "__==Design notes for (3)==__   \n",
    "For this task you will have to determine a method of comparison.\n",
    "Here are a few that you might consider:\n",
    "\n",
    " - Jaccard\n",
    " - Cosine similarity\n",
    " - Spearman correlation\n",
    " - Euclidean distance\n",
    " - Taxicab (Manhattan) distance\n",
    " - Shortest path graph distance (a graph, because our data is symmetric!)\n",
    " - Pearson correlation\n",
    " - Kendall correlation\n",
    " ...\n",
    "\n",
    "However, be cautioned that some comparison methods are more difficult to parallelize than others, and do not perform more associations than is necessary, since your choice of association will be symmetric.\n",
    "\n",
    "Please use the inverted index (discussed in live session #5) based pattern to compute the pairwise (term-by-term) similarity matrix. "
   ]
  },
  {
   "cell_type": "markdown",
   "metadata": {},
   "source": []
  },
  {
   "cell_type": "code",
   "execution_count": 12,
   "metadata": {
    "collapsed": false
   },
   "outputs": [
    {
     "name": "stdout",
     "output_type": "stream",
     "text": [
      "Overwriting buildStripes.py\n"
     ]
    }
   ],
   "source": [
    "%%writefile buildStripes.py\n",
    "#!~/anaconda2/bin/python\n",
    "# -*- coding: utf-8 -*-\n",
    "\n",
    "from __future__ import division\n",
    "import re\n",
    "import mrjob\n",
    "import json\n",
    "from mrjob.protocol import RawProtocol\n",
    "from mrjob.job import MRJob\n",
    "from mrjob.step import MRStep\n",
    "\n",
    "class MRbuildStripes(MRJob):\n",
    "  \n",
    "    MRJob.SORT_VALUES = True \n",
    "    \n",
    "    def steps(self):\n",
    "       \n",
    "        return [self.mr(\n",
    "                    mapper=self.mapper,\n",
    "                    combiner=self.reducer,\n",
    "                    reducer=self.reducer)\n",
    "            ]\n",
    "    \n",
    "    def mapper(self,_,line):\n",
    "        \n",
    "        STRIPES = {}\n",
    "        \n",
    "        line = line.strip()\n",
    "        ngram,count,page_count,book_count = line.split(\"\\t\")\n",
    "        \n",
    "        words = map(lambda x: x.lower(), ngram.split())\n",
    "        \n",
    "        for w1 in words:\n",
    "            STRIPES.setdefault(w1,{}) \n",
    "            for w2 in words:\n",
    "                if w2 != w1:\n",
    "                    STRIPES[w1].setdefault(w2,0)\n",
    "                    STRIPES[w1][w2] += int(count)\n",
    "\n",
    "            yield w1, STRIPES[w1]\n",
    "        \n",
    "    def reducer(self,key,stripes):  \n",
    "        # make a combined stripe from the list of stripes\n",
    "        aggregate_stripe = {}\n",
    "        for stripe in stripes:\n",
    "            for word in stripe:\n",
    "                aggregate_stripe.setdefault(word, 0)\n",
    "                aggregate_stripe[word] += stripe[word]\n",
    "        yield key, aggregate_stripe\n",
    "    \n",
    "if __name__ == '__main__':\n",
    "    MRbuildStripes.run()"
   ]
  },
  {
   "cell_type": "code",
   "execution_count": 13,
   "metadata": {
    "collapsed": false
   },
   "outputs": [
    {
     "name": "stdout",
     "output_type": "stream",
     "text": [
      "Writing invertedIndex.py\n"
     ]
    }
   ],
   "source": [
    "%%writefile invertedIndex.py\n",
    "#!~/anaconda2/bin/python\n",
    "# -*- coding: utf-8 -*-\n",
    "\n",
    "\n",
    "from __future__ import division\n",
    "import collections\n",
    "import re\n",
    "import json\n",
    "import math\n",
    "import numpy as np\n",
    "import itertools\n",
    "import mrjob\n",
    "from mrjob.protocol import RawProtocol\n",
    "from mrjob.job import MRJob\n",
    "from mrjob.step import MRStep\n",
    "\n",
    "class MRinvertedIndex(MRJob):\n",
    "    \n",
    "  #START SUDENT CODE531_INV_INDEX\n",
    "  MRJob.SORT_VALUES = True \n",
    "    \n",
    "  def steps(self):\n",
    "      JOBCONF_STEP1 = {\n",
    "          \"mapred.map.tasks\":20,\n",
    "          \"mapred.reduce.tasks\":10\n",
    "      }\n",
    "      return [MRStep(jobconf=JOBCONF_STEP1,\n",
    "                  mapper=self.mapper,\n",
    "                  reducer=self.reducer)\n",
    "              ]\n",
    "\n",
    "\n",
    "\n",
    "  def mapper(self,_,line):\n",
    "      '''\n",
    "      Reference:\n",
    "      \"For each term in the document,emits the term as key, and a tuple \n",
    "      consisting of the doc id and term weight as the value.\n",
    "      The MR runtime automatically handles the grouping of these tuples...\"\n",
    "      (https://terpconnect.umd.edu/~oard/pdf/acl08elsayed2.pdf)\n",
    "      '''\n",
    "      #####################################################################\n",
    "      # Stripes as input, ie:\n",
    "      # \"absolutely\" {\"falsehood\": 113, \"pyramid\": 47, \"apartments\": 46}\n",
    "      #####################################################################\n",
    "\n",
    "      line = line.strip()\n",
    "      key, stripe = line.split(\"\\t\")\n",
    "\n",
    "      key = key.replace('\"','')\n",
    "      stripe = json.loads(stripe)\n",
    "      l = len(stripe)\n",
    "      for w in stripe:\n",
    "          # Store the length of the document to use with JACCARD (|A| + |B|)\n",
    "          yield w, (key, l)\n",
    "\n",
    "\n",
    "\n",
    "  def reducer(self,key,value):\n",
    "      '''\n",
    "      Reference con't:\n",
    "      \"...which the reducer then writes out to disk, thus generating the postings.\"\n",
    "      (https://terpconnect.umd.edu/~oard/pdf/acl08elsayed2.pdf)\n",
    "      '''\n",
    "      #####################################################################\n",
    "      # Inverted Index as output, ie:\n",
    "      # \"term\" [[\"doc\",doc_length]]\n",
    "      # \"abyss\"\t[[\"absorbed\", 42], [\"absurdity\", 19]]\n",
    "      #####################################################################\n",
    "      d = collections.defaultdict(list)\n",
    "      for v in value:\n",
    "          d[key].append(v)\n",
    "      yield key,d[key]\n",
    "\n",
    "  #END SUDENT CODE531_INV_INDEX\n",
    "        \n",
    "if __name__ == '__main__':\n",
    "    MRinvertedIndex.run() "
   ]
  },
  {
   "cell_type": "code",
   "execution_count": 14,
   "metadata": {
    "collapsed": false
   },
   "outputs": [
    {
     "name": "stdout",
     "output_type": "stream",
     "text": [
      "Overwriting similarity.py\n"
     ]
    }
   ],
   "source": [
    "%%writefile similarity.py\n",
    "#!~/anaconda2/bin/python\n",
    "# -*- coding: utf-8 -*-\n",
    "\n",
    "from __future__ import division\n",
    "import collections\n",
    "import re\n",
    "import json\n",
    "import math\n",
    "import numpy as np\n",
    "import itertools\n",
    "import mrjob\n",
    "from mrjob.protocol import RawProtocol\n",
    "from mrjob.job import MRJob\n",
    "from mrjob.step import MRStep\n",
    "\n",
    "class MRsimilarity(MRJob):\n",
    "  \n",
    "  #START SUDENT CODE531_SIMILARITY\n",
    "  MRJob.SORT_VALUES = True \n",
    "  def steps(self):\n",
    "      # for testing in hadoop local, force multiple reducers.\n",
    "      # On AWS-EMR let the framework decide number of reducers.\n",
    "\n",
    "      JOBCONF_STEP1 = {  \n",
    "#              \"mapred.map.tasks\":120,\n",
    "#              \"mapred.reduce.tasks\":55\n",
    "      }\n",
    "      JOBCONF_STEP2 = { \n",
    "          'mapreduce.job.output.key.comparator.class': 'org.apache.hadoop.mapred.lib.KeyFieldBasedComparator',\n",
    "          'mapreduce.partition.keycomparator.options':'-k1,1nr',\n",
    "      }\n",
    "      return [MRStep(jobconf=JOBCONF_STEP1,\n",
    "                  mapper=self.mapper_pair_sim,\n",
    "                  reducer=self.reducer_pair_sim)\n",
    "              ,\n",
    "              MRStep(jobconf=JOBCONF_STEP2,\n",
    "                  mapper=None,   \n",
    "                  reducer=self.reducer_sort)\n",
    "              ]\n",
    "\n",
    "\n",
    "\n",
    "\n",
    "  def mapper_pair_sim(self,_,line):\n",
    "      line = line.strip()\n",
    "      key,inv_indx = line.split(\"\\t\")\n",
    "      inv_indx = json.loads(inv_indx)\n",
    "\n",
    "      '''\n",
    "      @input: lines (postings) from inverted index\n",
    "       \"X\" [[\"DocA\", 3], [\"DocB\", 2], [\"DocC\", 3]]\n",
    "\n",
    "      @output: pairs of doc and doc_length, count the number of pairs\n",
    "      make complex key and count of 1 as value:\n",
    "       DocA.3.DocB.2, 1\n",
    "       DocA.3.DocC.3, 1\n",
    "       DocB.2.DocC.3, 1\n",
    "      '''\n",
    "\n",
    "      X = map(lambda x: x[0]+\".\"+str(x[1]) , inv_indx)\n",
    "\n",
    "      # taking advantage of symetry, output only (a,b), but not (b,a)\n",
    "      for subset in itertools.combinations(sorted(set(X)), 2):\n",
    "          yield subset[0]+\".\"+subset[1], 1\n",
    "\n",
    "\n",
    "\n",
    "  def reducer_pair_sim(self,key,value):\n",
    "      w1,w1_len,w2,w2_len = key.split(\".\")\n",
    "      t = sum(value)\n",
    "\n",
    "      # http://stanford.edu/~rezab/papers/disco.pdf, pg5 - Table1\n",
    "      jaccard = t / ( int(w1_len) + int(w2_len) - t )\n",
    "      cosine = t / ( math.sqrt(int(w1_len))*math.sqrt(int(w2_len)) ) \n",
    "      overlap = t / ( min( int(w1_len), int(w2_len) ) )\n",
    "      dice = ( 2*t ) / ( int(w1_len) + int(w2_len) )               \n",
    "\n",
    "      avg = (jaccard+cosine+overlap+dice)/4\n",
    "      yield avg, (w1+\" - \"+w2,cosine,jaccard,overlap,dice)\n",
    "\n",
    "\n",
    "  def reducer_sort(self,key,value):\n",
    "      for v in value:\n",
    "          yield key,v\n",
    "\n",
    "  #END SUDENT CODE531_SIMILARITY\n",
    "  \n",
    "if __name__ == '__main__':\n",
    "    MRsimilarity.run()"
   ]
  },
  {
   "cell_type": "markdown",
   "metadata": {},
   "source": [
    "## HW5.3.1   Run Systems tests locally on small datasets (PHASE1) <a name=\"5.3.1\"></a>  \n",
    "[Back to Table of Contents](#TOC)\n",
    "\n",
    "Complete 5.3 and systems test using the below test datasets. Phase 2 will focus on the entire Ngram dataset.\n",
    "\n",
    "To help you through these tasks please verify that your code gives the results below (for stripes, inverted index, and pairwise similarities).\n",
    "\n",
    "Test datasets:\n",
    "\n",
    "* googlebooks-eng-all-5gram-20090715-0-filtered.txt [see below]\n",
    "* atlas-boon-test [see below]\n",
    "* stripe-docs-test [see below]\n",
    "\n",
    "\n",
    "A large subset of the Google n-grams dataset\n",
    "\n",
    "https://aws.amazon.com/datasets/google-books-ngrams/\n",
    "\n",
    "which we have placed in a bucket/folder on Dropbox and on s3:\n",
    "\n",
    "https://www.dropbox.com/sh/tmqpc4o0xswhkvz/AACUifrl6wrMrlK6a3X3lZ9Ea?dl=0 \n",
    "\n",
    "s3://filtered-5grams/\n",
    "\n",
    "In particular, this bucket contains (~200) files (10Meg each) in the format:\n",
    "\n",
    "\t(ngram) \\t (count) \\t (pages_count) \\t (books_count)\n",
    "\n",
    "The next cell shows the first 10 lines of the googlebooks-eng-all-5gram-20090715-0-filtered.txt file.\n",
    "\n",
    "\n",
    "__DISCLAIMER__: Each record is already a 5-gram. In real life, we would calculate the stripes cooccurrence data from the raw text by windowing over the raw text and not from the 5-gram preprocessed data (as we are doing here).  Calculatating pairs on this 5-gram is a little corrupt as we will be double counting cooccurences. Having said that this exercise can still pull out some simialr terms. "
   ]
  },
  {
   "cell_type": "markdown",
   "metadata": {},
   "source": [
    "#### 1: unit/systems first-10-lines"
   ]
  },
  {
   "cell_type": "code",
   "execution_count": 2,
   "metadata": {
    "collapsed": false
   },
   "outputs": [
    {
     "name": "stdout",
     "output_type": "stream",
     "text": [
      "Overwriting googlebooks-eng-all-5gram-20090715-0-filtered-first-10-lines.txt\n"
     ]
    }
   ],
   "source": [
    "%%writefile googlebooks-eng-all-5gram-20090715-0-filtered-first-10-lines.txt\n",
    "A BILL FOR ESTABLISHING RELIGIOUS\t59\t59\t54\n",
    "A Biography of General George\t92\t90\t74\n",
    "A Case Study in Government\t102\t102\t78\n",
    "A Case Study of Female\t447\t447\t327\n",
    "A Case Study of Limited\t55\t55\t43\n",
    "A Child's Christmas in Wales\t1099\t1061\t866\n",
    "A Circumstantial Narrative of the\t62\t62\t50\n",
    "A City by the Sea\t62\t60\t49\n",
    "A Collection of Fairy Tales\t123\t117\t80\n",
    "A Collection of Forms of\t116\t103\t82"
   ]
  },
  {
   "cell_type": "markdown",
   "metadata": {},
   "source": [
    "#### 2: unit/systems atlas-boon"
   ]
  },
  {
   "cell_type": "code",
   "execution_count": 3,
   "metadata": {
    "collapsed": false
   },
   "outputs": [
    {
     "name": "stdout",
     "output_type": "stream",
     "text": [
      "Overwriting atlas-boon-systems-test.txt\n"
     ]
    }
   ],
   "source": [
    "%%writefile atlas-boon-systems-test.txt\n",
    "atlas boon\t50\t50\t50\n",
    "boon cava dipped\t10\t10\t10\n",
    "atlas dipped\t15\t15\t15"
   ]
  },
  {
   "cell_type": "markdown",
   "metadata": {},
   "source": [
    "#### 3: unit/systems stripe-docs-test"
   ]
  },
  {
   "cell_type": "markdown",
   "metadata": {},
   "source": [
    "Three terms, A,B,C and their corresponding stripe-docs of co-occurring terms\n",
    "\n",
    "- DocA {X:20, Y:30, Z:5}\n",
    "- DocB {X:100, Y:20}\n",
    "- DocC {M:5, N:20, Z:5}"
   ]
  },
  {
   "cell_type": "markdown",
   "metadata": {},
   "source": [
    "### (1) build stripes for all the test data sets - run the commands and insure that your output matches the output below"
   ]
  },
  {
   "cell_type": "code",
   "execution_count": 4,
   "metadata": {
    "collapsed": false
   },
   "outputs": [
    {
     "name": "stdout",
     "output_type": "stream",
     "text": [
      "rm: Unknown command\n",
      "Did you mean -rm?  This command begins with a dash.\n",
      "Using configs in /etc/mrjob.conf\n",
      "ignoring partitioner keyword arg (requires real Hadoop): 'org.apache.hadoop.mapred.lib.KeyFieldBasedPartitioner'\n",
      "Creating temp directory /var/folders/2f/rb8qqgd55bl77zgchyxsfl7h0000gp/T/buildStripes.koza.20170215.222038.592991\n",
      "Running step 1 of 1...\n",
      "Streaming final output from /var/folders/2f/rb8qqgd55bl77zgchyxsfl7h0000gp/T/buildStripes.koza.20170215.222038.592991/output...\n",
      "Removing temp directory /var/folders/2f/rb8qqgd55bl77zgchyxsfl7h0000gp/T/buildStripes.koza.20170215.222038.592991...\n"
     ]
    }
   ],
   "source": [
    "###########################################################################\n",
    "# Make Stripes from ngrams for systems test 1\n",
    "###########################################################################\n",
    "\n",
    "!hdfs dfs rm --recursive systems_test_stripes_1\n",
    "!python buildStripes.py -r local googlebooks-eng-all-5gram-20090715-0-filtered-first-10-lines.txt > systems_test_stripes_1"
   ]
  },
  {
   "cell_type": "code",
   "execution_count": 5,
   "metadata": {
    "collapsed": false
   },
   "outputs": [
    {
     "name": "stdout",
     "output_type": "stream",
     "text": [
      "\"a\"\t{\"limited\": 55, \"sea\": 62, \"general\": 92, \"female\": 447, \"in\": 1201, \"religious\": 59, \"george\": 92, \"biography\": 92, \"city\": 62, \"for\": 59, \"tales\": 123, \"child's\": 1099, \"forms\": 116, \"wales\": 1099, \"christmas\": 1099, \"government\": 102, \"collection\": 239, \"by\": 62, \"case\": 604, \"circumstantial\": 62, \"fairy\": 123, \"of\": 1011, \"study\": 604, \"bill\": 59, \"establishing\": 59, \"narrative\": 62, \"the\": 124}\r\n",
      "\"bill\"\t{\"a\": 59, \"religious\": 59, \"for\": 59, \"establishing\": 59}\r\n",
      "\"biography\"\t{\"a\": 92, \"of\": 92, \"george\": 92, \"general\": 92}\r\n",
      "\"by\"\t{\"a\": 62, \"city\": 62, \"the\": 62, \"sea\": 62}\r\n",
      "\"case\"\t{\"a\": 604, \"limited\": 55, \"government\": 102, \"of\": 502, \"study\": 604, \"female\": 447, \"in\": 102}\r\n",
      "\"child's\"\t{\"a\": 1099, \"wales\": 1099, \"christmas\": 1099, \"in\": 1099}\r\n",
      "\"christmas\"\t{\"a\": 1099, \"wales\": 1099, \"in\": 1099, \"child's\": 1099}\r\n",
      "\"circumstantial\"\t{\"a\": 62, \"of\": 62, \"the\": 62, \"narrative\": 62}\r\n",
      "\"city\"\t{\"a\": 62, \"the\": 62, \"by\": 62, \"sea\": 62}\r\n",
      "\"collection\"\t{\"a\": 239, \"of\": 355, \"fairy\": 123, \"tales\": 123, \"forms\": 116}\r\n",
      "\"establishing\"\t{\"a\": 59, \"bill\": 59, \"religious\": 59, \"for\": 59}\r\n",
      "\"fairy\"\t{\"a\": 123, \"of\": 123, \"tales\": 123, \"collection\": 123}\r\n",
      "\"female\"\t{\"a\": 447, \"case\": 447, \"study\": 447, \"of\": 447}\r\n",
      "\"for\"\t{\"a\": 59, \"bill\": 59, \"religious\": 59, \"establishing\": 59}\r\n",
      "\"forms\"\t{\"a\": 116, \"of\": 232, \"collection\": 116}\r\n",
      "\"general\"\t{\"a\": 92, \"of\": 92, \"george\": 92, \"biography\": 92}\r\n",
      "\"george\"\t{\"a\": 92, \"of\": 92, \"biography\": 92, \"general\": 92}\r\n",
      "\"government\"\t{\"a\": 102, \"case\": 102, \"study\": 102, \"in\": 102}\r\n",
      "\"in\"\t{\"a\": 1201, \"case\": 102, \"government\": 102, \"study\": 102, \"child's\": 1099, \"wales\": 1099, \"christmas\": 1099}\r\n",
      "\"limited\"\t{\"a\": 55, \"case\": 55, \"study\": 55, \"of\": 55}\r\n",
      "\"narrative\"\t{\"a\": 62, \"of\": 62, \"the\": 62, \"circumstantial\": 62}\r\n",
      "\"of\"\t{\"a\": 1127, \"case\": 502, \"circumstantial\": 62, \"george\": 92, \"limited\": 55, \"tales\": 123, \"collection\": 471, \"general\": 92, \"forms\": 348, \"female\": 447, \"narrative\": 62, \"study\": 502, \"fairy\": 123, \"the\": 62, \"biography\": 92}\r\n",
      "\"religious\"\t{\"a\": 59, \"bill\": 59, \"for\": 59, \"establishing\": 59}\r",
      "\r\n",
      "\"sea\"\t{\"a\": 62, \"city\": 62, \"the\": 62, \"by\": 62}\r\n",
      "\"study\"\t{\"a\": 604, \"case\": 604, \"limited\": 55, \"government\": 102, \"of\": 502, \"female\": 447, \"in\": 102}\r\n",
      "\"tales\"\t{\"a\": 123, \"of\": 123, \"fairy\": 123, \"collection\": 123}\r\n",
      "\"the\"\t{\"a\": 124, \"city\": 62, \"circumstantial\": 62, \"of\": 62, \"sea\": 62, \"narrative\": 62, \"by\": 62}\r\n",
      "\"wales\"\t{\"a\": 1099, \"in\": 1099, \"christmas\": 1099, \"child's\": 1099}\r\n"
     ]
    }
   ],
   "source": [
    "!cat systems_test_stripes_1"
   ]
  },
  {
   "cell_type": "code",
   "execution_count": 6,
   "metadata": {
    "collapsed": false
   },
   "outputs": [
    {
     "name": "stdout",
     "output_type": "stream",
     "text": [
      "rm: Unknown command\n",
      "Did you mean -rm?  This command begins with a dash.\n",
      "Using configs in /etc/mrjob.conf\n",
      "ignoring partitioner keyword arg (requires real Hadoop): 'org.apache.hadoop.mapred.lib.KeyFieldBasedPartitioner'\n",
      "Creating temp directory /var/folders/2f/rb8qqgd55bl77zgchyxsfl7h0000gp/T/buildStripes.koza.20170215.222054.958159\n",
      "Running step 1 of 1...\n",
      "Streaming final output from /var/folders/2f/rb8qqgd55bl77zgchyxsfl7h0000gp/T/buildStripes.koza.20170215.222054.958159/output...\n",
      "Removing temp directory /var/folders/2f/rb8qqgd55bl77zgchyxsfl7h0000gp/T/buildStripes.koza.20170215.222054.958159...\n"
     ]
    }
   ],
   "source": [
    "###########################################################################\n",
    "# Make Stripes from ngrams for systems test 2\n",
    "###########################################################################\n",
    "\n",
    "!hdfs dfs rm --recursive systems_test_stripes_2\n",
    "!python buildStripes.py -r local atlas-boon-systems-test.txt > systems_test_stripes_2"
   ]
  },
  {
   "cell_type": "code",
   "execution_count": 7,
   "metadata": {
    "collapsed": false
   },
   "outputs": [
    {
     "name": "stdout",
     "output_type": "stream",
     "text": [
      "\"atlas\"\t{\"dipped\": 15, \"boon\": 50}\r\n",
      "\"boon\"\t{\"atlas\": 50, \"dipped\": 10, \"cava\": 10}\r\n",
      "\"cava\"\t{\"dipped\": 10, \"boon\": 10}\r\n",
      "\"dipped\"\t{\"atlas\": 15, \"boon\": 10, \"cava\": 10}\r\n"
     ]
    }
   ],
   "source": [
    "!cat systems_test_stripes_2"
   ]
  },
  {
   "cell_type": "code",
   "execution_count": 8,
   "metadata": {
    "collapsed": false
   },
   "outputs": [
    {
     "name": "stdout",
     "output_type": "stream",
     "text": [
      "\"DocA\"\t{\"X\":20, \"Y\":30, \"Z\":5}\r\n",
      "\"DocB\"\t{\"X\":100, \"Y\":20}\r\n",
      "\"DocC\"\t{\"M\":5, \"N\":20, \"Z\":5, \"Y\":1}\r\n"
     ]
    }
   ],
   "source": [
    "########################################################################\n",
    "# Stripes for systems test 3 (given, no need to build stripes)\n",
    "########################################################################\n",
    "\n",
    "with open(\"systems_test_stripes_3\", \"w\") as f:\n",
    "    f.writelines([\n",
    "        '\"DocA\"\\t{\"X\":20, \"Y\":30, \"Z\":5}\\n',\n",
    "        '\"DocB\"\\t{\"X\":100, \"Y\":20}\\n',  \n",
    "        '\"DocC\"\\t{\"M\":5, \"N\":20, \"Z\":5, \"Y\":1}\\n'\n",
    "    ])\n",
    "!cat systems_test_stripes_3   "
   ]
  },
  {
   "cell_type": "markdown",
   "metadata": {},
   "source": [
    "### (2) Build Inverted Index - run the commands and insure that your output matches the output below"
   ]
  },
  {
   "cell_type": "code",
   "execution_count": 15,
   "metadata": {
    "collapsed": false
   },
   "outputs": [
    {
     "name": "stdout",
     "output_type": "stream",
     "text": [
      "Using configs in /etc/mrjob.conf\n",
      "ignoring partitioner keyword arg (requires real Hadoop): 'org.apache.hadoop.mapred.lib.KeyFieldBasedPartitioner'\n",
      "Creating temp directory /var/folders/2f/rb8qqgd55bl77zgchyxsfl7h0000gp/T/invertedIndex.koza.20170215.222144.117876\n",
      "Running step 1 of 1...\n",
      "Streaming final output from /var/folders/2f/rb8qqgd55bl77zgchyxsfl7h0000gp/T/invertedIndex.koza.20170215.222144.117876/output...\n",
      "Removing temp directory /var/folders/2f/rb8qqgd55bl77zgchyxsfl7h0000gp/T/invertedIndex.koza.20170215.222144.117876...\n"
     ]
    }
   ],
   "source": [
    "!python invertedIndex.py -r local systems_test_stripes_1 > systems_test_index_1"
   ]
  },
  {
   "cell_type": "code",
   "execution_count": 16,
   "metadata": {
    "collapsed": false
   },
   "outputs": [
    {
     "name": "stdout",
     "output_type": "stream",
     "text": [
      "Using configs in /etc/mrjob.conf\n",
      "ignoring partitioner keyword arg (requires real Hadoop): 'org.apache.hadoop.mapred.lib.KeyFieldBasedPartitioner'\n",
      "Creating temp directory /var/folders/2f/rb8qqgd55bl77zgchyxsfl7h0000gp/T/invertedIndex.koza.20170215.222147.286096\n",
      "Running step 1 of 1...\n",
      "Streaming final output from /var/folders/2f/rb8qqgd55bl77zgchyxsfl7h0000gp/T/invertedIndex.koza.20170215.222147.286096/output...\n",
      "Removing temp directory /var/folders/2f/rb8qqgd55bl77zgchyxsfl7h0000gp/T/invertedIndex.koza.20170215.222147.286096...\n"
     ]
    }
   ],
   "source": [
    "!python invertedIndex.py -r local systems_test_stripes_2 > systems_test_index_2"
   ]
  },
  {
   "cell_type": "code",
   "execution_count": 17,
   "metadata": {
    "collapsed": false
   },
   "outputs": [
    {
     "name": "stdout",
     "output_type": "stream",
     "text": [
      "Using configs in /etc/mrjob.conf\n",
      "ignoring partitioner keyword arg (requires real Hadoop): 'org.apache.hadoop.mapred.lib.KeyFieldBasedPartitioner'\n",
      "Creating temp directory /var/folders/2f/rb8qqgd55bl77zgchyxsfl7h0000gp/T/invertedIndex.koza.20170215.222149.125613\n",
      "Running step 1 of 1...\n",
      "Streaming final output from /var/folders/2f/rb8qqgd55bl77zgchyxsfl7h0000gp/T/invertedIndex.koza.20170215.222149.125613/output...\n",
      "Removing temp directory /var/folders/2f/rb8qqgd55bl77zgchyxsfl7h0000gp/T/invertedIndex.koza.20170215.222149.125613...\n"
     ]
    }
   ],
   "source": [
    "!python invertedIndex.py -r local systems_test_stripes_3 > systems_test_index_3"
   ]
  },
  {
   "cell_type": "code",
   "execution_count": 18,
   "metadata": {
    "collapsed": false
   },
   "outputs": [
    {
     "name": "stdout",
     "output_type": "stream",
     "text": [
      "————————————————————————————————————————————————————————————————————————————————————————————————————\n",
      "Systems test  1  - Inverted Index\n",
      "————————————————————————————————————————————————————————————————————————————————————————————————————\n",
      "             \"a\" |          bill 4 |     biography 4 |            by 4\n",
      "          \"bill\" |            a 27 |  establishing 4 |           for 4\n",
      "     \"biography\" |            a 27 |       general 4 |        george 4\n",
      "            \"by\" |            a 27 |          city 4 |           sea 4\n",
      "          \"case\" |            a 27 |        female 4 |    government 4\n",
      "       \"child's\" |            a 27 |     christmas 4 |            in 7\n",
      "     \"christmas\" |            a 27 |       child's 4 |            in 7\n",
      "\"circumstantial\" |            a 27 |     narrative 4 |           of 15\n",
      "          \"city\" |            a 27 |            by 4 |           sea 4\n",
      "    \"collection\" |            a 27 |         fairy 4 |         forms 3\n",
      "  \"establishing\" |            a 27 |          bill 4 |           for 4\n",
      "         \"fairy\" |            a 27 |    collection 5 |           of 15\n",
      "        \"female\" |            a 27 |          case 7 |           of 15\n",
      "           \"for\" |            a 27 |          bill 4 |  establishing 4\n",
      "         \"forms\" |            a 27 |    collection 5 |           of 15\n",
      "       \"general\" |            a 27 |     biography 4 |        george 4\n",
      "        \"george\" |            a 27 |     biography 4 |       general 4\n",
      "    \"government\" |            a 27 |          case 7 |            in 7\n",
      "            \"in\" |            a 27 |          case 7 |       child's 4\n",
      "       \"limited\" |            a 27 |          case 7 |           of 15\n",
      "     \"narrative\" |            a 27 |circumstantial 4 |           of 15\n",
      "            \"of\" |            a 27 |     biography 4 |          case 7\n",
      "     \"religious\" |            a 27 |          bill 4 |  establishing 4\n",
      "           \"sea\" |            a 27 |            by 4 |          city 4\n",
      "         \"study\" |            a 27 |          case 7 |        female 4\n",
      "         \"tales\" |            a 27 |    collection 5 |         fairy 4\n",
      "           \"the\" |            a 27 |            by 4 |circumstantial 4\n",
      "         \"wales\" |            a 27 |       child's 4 |     christmas 4\n",
      "————————————————————————————————————————————————————————————————————————————————————————————————————\n",
      "Systems test  2  - Inverted Index\n",
      "————————————————————————————————————————————————————————————————————————————————————————————————————\n",
      "         \"atlas\" |          boon 3 |        dipped 3 |                \n",
      "          \"boon\" |         atlas 2 |          cava 2 |        dipped 3\n",
      "          \"cava\" |          boon 3 |        dipped 3 |                \n",
      "        \"dipped\" |         atlas 2 |          boon 3 |          cava 2\n",
      "————————————————————————————————————————————————————————————————————————————————————————————————————\n",
      "Systems test  3  - Inverted Index\n",
      "————————————————————————————————————————————————————————————————————————————————————————————————————\n",
      "             \"M\" |          DocC 4 |                 |                \n",
      "             \"N\" |          DocC 4 |                 |                \n",
      "             \"X\" |          DocA 3 |          DocB 2 |                \n",
      "             \"Y\" |          DocA 3 |          DocB 2 |          DocC 4\n",
      "             \"Z\" |          DocA 3 |          DocC 4 |                \n"
     ]
    }
   ],
   "source": [
    "##########################################################\n",
    "# Pretty print systems tests for generating Inverted Index\n",
    "##########################################################\n",
    "\n",
    "import json\n",
    "\n",
    "for i in range(1,4):\n",
    "  print \"—\"*100\n",
    "  print \"Systems test \",i,\" - Inverted Index\"\n",
    "  print \"—\"*100  \n",
    "  with open(\"systems_test_index_\"+str(i),\"r\") as f:\n",
    "      lines = f.readlines()\n",
    "      for line in lines:\n",
    "          line = line.strip()\n",
    "          word,stripe = line.split(\"\\t\")\n",
    "          stripe = json.loads(stripe)\n",
    "          stripe.extend([[\"\",\"\"] for _ in xrange(3 - len(stripe))])\n",
    "\n",
    "          print \"{0:>16} |{1:>16} |{2:>16} |{3:>16}\".format(\n",
    "              (word), stripe[0][0]+\" \"+str(stripe[0][1]), stripe[1][0]+\" \"+str(stripe[1][1]), stripe[2][0]+\" \"+str(stripe[2][1]))\n",
    "        \n"
   ]
  },
  {
   "cell_type": "markdown",
   "metadata": {},
   "source": [
    "### (3) Calculate similarities - run the commands and insure that your output matches the output below"
   ]
  },
  {
   "cell_type": "markdown",
   "metadata": {},
   "source": [
    "#### NOTE: you must run in hadoop mode to generate sorted similarities"
   ]
  },
  {
   "cell_type": "code",
   "execution_count": 21,
   "metadata": {
    "collapsed": false,
    "scrolled": true
   },
   "outputs": [
    {
     "name": "stdout",
     "output_type": "stream",
     "text": [
      "Using configs in /etc/mrjob.conf\n",
      "Creating temp directory /var/folders/2f/rb8qqgd55bl77zgchyxsfl7h0000gp/T/similarity.koza.20170216.000528.365299\n",
      "Looking for hadoop binary in $PATH...\n",
      "Found hadoop binary: /usr/local/bin/hadoop\n",
      "Using Hadoop version 2.7.2\n",
      "Copying local files to hdfs:///user/koza/tmp/mrjob/similarity.koza.20170216.000528.365299/files/...\n",
      "Detected hadoop configuration property names that do not match hadoop version 2.7.2:\n",
      "The have been translated as follows\n",
      " mapred.output.key.comparator.class: mapreduce.job.output.key.comparator.class\n",
      "mapred.text.key.comparator.options: mapreduce.partition.keycomparator.options\n",
      "mapred.text.key.partitioner.options: mapreduce.partition.keypartitioner.options\n",
      "Running step 1 of 2...\n",
      "  packageJobJar: [/var/folders/2f/rb8qqgd55bl77zgchyxsfl7h0000gp/T/hadoop-unjar5596018833097133462/] [] /var/folders/2f/rb8qqgd55bl77zgchyxsfl7h0000gp/T/streamjob7479578910434483478.jar tmpDir=null\n",
      "  Connecting to ResourceManager at /0.0.0.0:8032\n",
      "  Connecting to ResourceManager at /0.0.0.0:8032\n",
      "  Total input paths to process : 1\n",
      "  number of splits:2\n",
      "  mapred.text.key.partitioner.options is deprecated. Instead, use mapreduce.partition.keypartitioner.options\n",
      "  Submitting tokens for job: job_1486380608198_0047\n",
      "  Submitted application application_1486380608198_0047\n",
      "  The url to track the job: http://localhost:8088/proxy/application_1486380608198_0047/\n",
      "  Running job: job_1486380608198_0047\n",
      "  Job job_1486380608198_0047 running in uber mode : false\n",
      "   map 0% reduce 0%\n",
      "   map 100% reduce 0%\n",
      "   map 100% reduce 100%\n",
      "  Job job_1486380608198_0047 completed successfully\n",
      "  Output directory: hdfs:///user/koza/tmp/mrjob/similarity.koza.20170216.000528.365299/step-output/0000\n",
      "Counters: 49\n",
      "\tFile Input Format Counters \n",
      "\t\tBytes Read=3762\n",
      "\tFile Output Format Counters \n",
      "\t\tBytes Written=33182\n",
      "\tFile System Counters\n",
      "\t\tFILE: Number of bytes read=16553\n",
      "\t\tFILE: Number of bytes written=402213\n",
      "\t\tFILE: Number of large read operations=0\n",
      "\t\tFILE: Number of read operations=0\n",
      "\t\tFILE: Number of write operations=0\n",
      "\t\tHDFS: Number of bytes read=4080\n",
      "\t\tHDFS: Number of bytes written=33182\n",
      "\t\tHDFS: Number of large read operations=0\n",
      "\t\tHDFS: Number of read operations=9\n",
      "\t\tHDFS: Number of write operations=2\n",
      "\tJob Counters \n",
      "\t\tData-local map tasks=2\n",
      "\t\tLaunched map tasks=2\n",
      "\t\tLaunched reduce tasks=1\n",
      "\t\tTotal megabyte-milliseconds taken by all map tasks=5044224\n",
      "\t\tTotal megabyte-milliseconds taken by all reduce tasks=2107392\n",
      "\t\tTotal time spent by all map tasks (ms)=4926\n",
      "\t\tTotal time spent by all maps in occupied slots (ms)=4926\n",
      "\t\tTotal time spent by all reduce tasks (ms)=2058\n",
      "\t\tTotal time spent by all reduces in occupied slots (ms)=2058\n",
      "\t\tTotal vcore-milliseconds taken by all map tasks=4926\n",
      "\t\tTotal vcore-milliseconds taken by all reduce tasks=2058\n",
      "\tMap-Reduce Framework\n",
      "\t\tCPU time spent (ms)=0\n",
      "\t\tCombine input records=0\n",
      "\t\tCombine output records=0\n",
      "\t\tFailed Shuffles=0\n",
      "\t\tGC time elapsed (ms)=122\n",
      "\t\tInput split bytes=318\n",
      "\t\tMap input records=28\n",
      "\t\tMap output bytes=15201\n",
      "\t\tMap output materialized bytes=16559\n",
      "\t\tMap output records=673\n",
      "\t\tMerged Map outputs=2\n",
      "\t\tPhysical memory (bytes) snapshot=0\n",
      "\t\tReduce input groups=378\n",
      "\t\tReduce input records=673\n",
      "\t\tReduce output records=378\n",
      "\t\tReduce shuffle bytes=16559\n",
      "\t\tShuffled Maps =2\n",
      "\t\tSpilled Records=1346\n",
      "\t\tTotal committed heap usage (bytes)=551550976\n",
      "\t\tVirtual memory (bytes) snapshot=0\n",
      "\tShuffle Errors\n",
      "\t\tBAD_ID=0\n",
      "\t\tCONNECTION=0\n",
      "\t\tIO_ERROR=0\n",
      "\t\tWRONG_LENGTH=0\n",
      "\t\tWRONG_MAP=0\n",
      "\t\tWRONG_REDUCE=0\n",
      "Detected hadoop configuration property names that do not match hadoop version 2.7.2:\n",
      "The have been translated as follows\n",
      " mapred.text.key.partitioner.options: mapreduce.partition.keypartitioner.options\n",
      "Running step 2 of 2...\n",
      "  packageJobJar: [/var/folders/2f/rb8qqgd55bl77zgchyxsfl7h0000gp/T/hadoop-unjar5008389952557901939/] [] /var/folders/2f/rb8qqgd55bl77zgchyxsfl7h0000gp/T/streamjob3408236872004387782.jar tmpDir=null\n",
      "  Connecting to ResourceManager at /0.0.0.0:8032\n",
      "  Connecting to ResourceManager at /0.0.0.0:8032\n",
      "  Total input paths to process : 1\n",
      "  number of splits:2\n",
      "  mapred.text.key.partitioner.options is deprecated. Instead, use mapreduce.partition.keypartitioner.options\n",
      "  Submitting tokens for job: job_1486380608198_0048\n",
      "  Submitted application application_1486380608198_0048\n",
      "  The url to track the job: http://localhost:8088/proxy/application_1486380608198_0048/\n",
      "  Running job: job_1486380608198_0048\n",
      "  Job job_1486380608198_0048 running in uber mode : false\n",
      "   map 0% reduce 0%\n",
      "   map 100% reduce 0%\n",
      "   map 100% reduce 100%\n",
      "  Job job_1486380608198_0048 completed successfully\n",
      "  Output directory: hdfs:///user/koza/tmp/mrjob/similarity.koza.20170216.000528.365299/output\n",
      "Counters: 49\n",
      "\tFile Input Format Counters \n",
      "\t\tBytes Read=37278\n",
      "\tFile Output Format Counters \n",
      "\t\tBytes Written=33182\n",
      "\tFile System Counters\n",
      "\t\tFILE: Number of bytes read=34322\n",
      "\t\tFILE: Number of bytes written=438567\n",
      "\t\tFILE: Number of large read operations=0\n",
      "\t\tFILE: Number of read operations=0\n",
      "\t\tFILE: Number of write operations=0\n",
      "\t\tHDFS: Number of bytes read=37598\n",
      "\t\tHDFS: Number of bytes written=33182\n",
      "\t\tHDFS: Number of large read operations=0\n",
      "\t\tHDFS: Number of read operations=9\n",
      "\t\tHDFS: Number of write operations=2\n",
      "\tJob Counters \n",
      "\t\tData-local map tasks=2\n",
      "\t\tLaunched map tasks=2\n",
      "\t\tLaunched reduce tasks=1\n",
      "\t\tTotal megabyte-milliseconds taken by all map tasks=4374528\n",
      "\t\tTotal megabyte-milliseconds taken by all reduce tasks=2130944\n",
      "\t\tTotal time spent by all map tasks (ms)=4272\n",
      "\t\tTotal time spent by all maps in occupied slots (ms)=4272\n",
      "\t\tTotal time spent by all reduce tasks (ms)=2081\n",
      "\t\tTotal time spent by all reduces in occupied slots (ms)=2081\n",
      "\t\tTotal vcore-milliseconds taken by all map tasks=4272\n",
      "\t\tTotal vcore-milliseconds taken by all reduce tasks=2081\n",
      "\tMap-Reduce Framework\n",
      "\t\tCPU time spent (ms)=0\n",
      "\t\tCombine input records=0\n",
      "\t\tCombine output records=0\n",
      "\t\tFailed Shuffles=0\n",
      "\t\tGC time elapsed (ms)=118\n",
      "\t\tInput split bytes=320\n",
      "\t\tMap input records=378\n",
      "\t\tMap output bytes=33560\n",
      "\t\tMap output materialized bytes=34328\n",
      "\t\tMap output records=378\n",
      "\t\tMerged Map outputs=2\n",
      "\t\tPhysical memory (bytes) snapshot=0\n",
      "\t\tReduce input groups=378\n",
      "\t\tReduce input records=378\n",
      "\t\tReduce output records=378\n",
      "\t\tReduce shuffle bytes=34328\n",
      "\t\tShuffled Maps =2\n",
      "\t\tSpilled Records=756\n",
      "\t\tTotal committed heap usage (bytes)=550502400\n",
      "\t\tVirtual memory (bytes) snapshot=0\n",
      "\tShuffle Errors\n",
      "\t\tBAD_ID=0\n",
      "\t\tCONNECTION=0\n",
      "\t\tIO_ERROR=0\n",
      "\t\tWRONG_LENGTH=0\n",
      "\t\tWRONG_MAP=0\n",
      "\t\tWRONG_REDUCE=0\n",
      "Streaming final output from hdfs:///user/koza/tmp/mrjob/similarity.koza.20170216.000528.365299/output...\n",
      "Removing HDFS temp directory hdfs:///user/koza/tmp/mrjob/similarity.koza.20170216.000528.365299...\n",
      "Removing temp directory /var/folders/2f/rb8qqgd55bl77zgchyxsfl7h0000gp/T/similarity.koza.20170216.000528.365299...\n"
     ]
    }
   ],
   "source": [
    "!python similarity.py -r hadoop systems_test_index_1 > systems_test_similarities_1"
   ]
  },
  {
   "cell_type": "code",
   "execution_count": 22,
   "metadata": {
    "collapsed": false,
    "scrolled": true
   },
   "outputs": [
    {
     "name": "stdout",
     "output_type": "stream",
     "text": [
      "Using configs in /etc/mrjob.conf\n",
      "Creating temp directory /var/folders/2f/rb8qqgd55bl77zgchyxsfl7h0000gp/T/similarity.koza.20170216.000635.868994\n",
      "Looking for hadoop binary in $PATH...\n",
      "Found hadoop binary: /usr/local/bin/hadoop\n",
      "Using Hadoop version 2.7.2\n",
      "Copying local files to hdfs:///user/koza/tmp/mrjob/similarity.koza.20170216.000635.868994/files/...\n",
      "Detected hadoop configuration property names that do not match hadoop version 2.7.2:\n",
      "The have been translated as follows\n",
      " mapred.output.key.comparator.class: mapreduce.job.output.key.comparator.class\n",
      "mapred.text.key.comparator.options: mapreduce.partition.keycomparator.options\n",
      "mapred.text.key.partitioner.options: mapreduce.partition.keypartitioner.options\n",
      "Running step 1 of 2...\n",
      "  packageJobJar: [/var/folders/2f/rb8qqgd55bl77zgchyxsfl7h0000gp/T/hadoop-unjar6839355208520089735/] [] /var/folders/2f/rb8qqgd55bl77zgchyxsfl7h0000gp/T/streamjob1792357379076361373.jar tmpDir=null\n",
      "  Connecting to ResourceManager at /0.0.0.0:8032\n",
      "  Connecting to ResourceManager at /0.0.0.0:8032\n",
      "  Total input paths to process : 1\n",
      "  number of splits:2\n",
      "  mapred.text.key.partitioner.options is deprecated. Instead, use mapreduce.partition.keypartitioner.options\n",
      "  Submitting tokens for job: job_1486380608198_0049\n",
      "  Submitted application application_1486380608198_0049\n",
      "  The url to track the job: http://localhost:8088/proxy/application_1486380608198_0049/\n",
      "  Running job: job_1486380608198_0049\n",
      "  Job job_1486380608198_0049 running in uber mode : false\n",
      "   map 0% reduce 0%\n",
      "   map 100% reduce 0%\n",
      "   map 100% reduce 100%\n",
      "  Job job_1486380608198_0049 completed successfully\n",
      "  Output directory: hdfs:///user/koza/tmp/mrjob/similarity.koza.20170216.000635.868994/step-output/0000\n",
      "Counters: 49\n",
      "\tFile Input Format Counters \n",
      "\t\tBytes Read=260\n",
      "\tFile Output Format Counters \n",
      "\t\tBytes Written=443\n",
      "\tFile System Counters\n",
      "\t\tFILE: Number of bytes read=186\n",
      "\t\tFILE: Number of bytes written=369479\n",
      "\t\tFILE: Number of large read operations=0\n",
      "\t\tFILE: Number of read operations=0\n",
      "\t\tFILE: Number of write operations=0\n",
      "\t\tHDFS: Number of bytes read=578\n",
      "\t\tHDFS: Number of bytes written=443\n",
      "\t\tHDFS: Number of large read operations=0\n",
      "\t\tHDFS: Number of read operations=9\n",
      "\t\tHDFS: Number of write operations=2\n",
      "\tJob Counters \n",
      "\t\tData-local map tasks=2\n",
      "\t\tLaunched map tasks=2\n",
      "\t\tLaunched reduce tasks=1\n",
      "\t\tTotal megabyte-milliseconds taken by all map tasks=4660224\n",
      "\t\tTotal megabyte-milliseconds taken by all reduce tasks=2031616\n",
      "\t\tTotal time spent by all map tasks (ms)=4551\n",
      "\t\tTotal time spent by all maps in occupied slots (ms)=4551\n",
      "\t\tTotal time spent by all reduce tasks (ms)=1984\n",
      "\t\tTotal time spent by all reduces in occupied slots (ms)=1984\n",
      "\t\tTotal vcore-milliseconds taken by all map tasks=4551\n",
      "\t\tTotal vcore-milliseconds taken by all reduce tasks=1984\n",
      "\tMap-Reduce Framework\n",
      "\t\tCPU time spent (ms)=0\n",
      "\t\tCombine input records=0\n",
      "\t\tCombine output records=0\n",
      "\t\tFailed Shuffles=0\n",
      "\t\tGC time elapsed (ms)=114\n",
      "\t\tInput split bytes=318\n",
      "\t\tMap input records=4\n",
      "\t\tMap output bytes=164\n",
      "\t\tMap output materialized bytes=192\n",
      "\t\tMap output records=8\n",
      "\t\tMerged Map outputs=2\n",
      "\t\tPhysical memory (bytes) snapshot=0\n",
      "\t\tReduce input groups=6\n",
      "\t\tReduce input records=8\n",
      "\t\tReduce output records=6\n",
      "\t\tReduce shuffle bytes=192\n",
      "\t\tShuffled Maps =2\n",
      "\t\tSpilled Records=16\n",
      "\t\tTotal committed heap usage (bytes)=551026688\n",
      "\t\tVirtual memory (bytes) snapshot=0\n",
      "\tShuffle Errors\n",
      "\t\tBAD_ID=0\n",
      "\t\tCONNECTION=0\n",
      "\t\tIO_ERROR=0\n",
      "\t\tWRONG_LENGTH=0\n",
      "\t\tWRONG_MAP=0\n",
      "\t\tWRONG_REDUCE=0\n",
      "Detected hadoop configuration property names that do not match hadoop version 2.7.2:\n",
      "The have been translated as follows\n",
      " mapred.text.key.partitioner.options: mapreduce.partition.keypartitioner.options\n",
      "Running step 2 of 2...\n",
      "  packageJobJar: [/var/folders/2f/rb8qqgd55bl77zgchyxsfl7h0000gp/T/hadoop-unjar4544340427244806516/] [] /var/folders/2f/rb8qqgd55bl77zgchyxsfl7h0000gp/T/streamjob5690557284467370514.jar tmpDir=null\n",
      "  Connecting to ResourceManager at /0.0.0.0:8032\n",
      "  Connecting to ResourceManager at /0.0.0.0:8032\n",
      "  Total input paths to process : 1\n",
      "  number of splits:2\n",
      "  mapred.text.key.partitioner.options is deprecated. Instead, use mapreduce.partition.keypartitioner.options\n",
      "  Submitting tokens for job: job_1486380608198_0050\n",
      "  Submitted application application_1486380608198_0050\n",
      "  The url to track the job: http://localhost:8088/proxy/application_1486380608198_0050/\n",
      "  Running job: job_1486380608198_0050\n",
      "  Job job_1486380608198_0050 running in uber mode : false\n",
      "   map 0% reduce 0%\n",
      "   map 100% reduce 0%\n",
      "   map 100% reduce 100%\n",
      "  Job job_1486380608198_0050 completed successfully\n",
      "  Output directory: hdfs:///user/koza/tmp/mrjob/similarity.koza.20170216.000635.868994/output\n",
      "Counters: 49\n",
      "\tFile Input Format Counters \n",
      "\t\tBytes Read=665\n",
      "\tFile Output Format Counters \n",
      "\t\tBytes Written=443\n",
      "\tFile System Counters\n",
      "\t\tFILE: Number of bytes read=467\n",
      "\t\tFILE: Number of bytes written=370857\n",
      "\t\tFILE: Number of large read operations=0\n",
      "\t\tFILE: Number of read operations=0\n",
      "\t\tFILE: Number of write operations=0\n",
      "\t\tHDFS: Number of bytes read=985\n",
      "\t\tHDFS: Number of bytes written=443\n",
      "\t\tHDFS: Number of large read operations=0\n",
      "\t\tHDFS: Number of read operations=9\n",
      "\t\tHDFS: Number of write operations=2\n",
      "\tJob Counters \n",
      "\t\tData-local map tasks=2\n",
      "\t\tLaunched map tasks=2\n",
      "\t\tLaunched reduce tasks=1\n",
      "\t\tTotal megabyte-milliseconds taken by all map tasks=4644864\n",
      "\t\tTotal megabyte-milliseconds taken by all reduce tasks=2168832\n",
      "\t\tTotal time spent by all map tasks (ms)=4536\n",
      "\t\tTotal time spent by all maps in occupied slots (ms)=4536\n",
      "\t\tTotal time spent by all reduce tasks (ms)=2118\n",
      "\t\tTotal time spent by all reduces in occupied slots (ms)=2118\n",
      "\t\tTotal vcore-milliseconds taken by all map tasks=4536\n",
      "\t\tTotal vcore-milliseconds taken by all reduce tasks=2118\n",
      "\tMap-Reduce Framework\n",
      "\t\tCPU time spent (ms)=0\n",
      "\t\tCombine input records=0\n",
      "\t\tCombine output records=0\n",
      "\t\tFailed Shuffles=0\n",
      "\t\tGC time elapsed (ms)=122\n",
      "\t\tInput split bytes=320\n",
      "\t\tMap input records=6\n",
      "\t\tMap output bytes=449\n",
      "\t\tMap output materialized bytes=473\n",
      "\t\tMap output records=6\n",
      "\t\tMerged Map outputs=2\n",
      "\t\tPhysical memory (bytes) snapshot=0\n",
      "\t\tReduce input groups=6\n",
      "\t\tReduce input records=6\n",
      "\t\tReduce output records=6\n",
      "\t\tReduce shuffle bytes=473\n",
      "\t\tShuffled Maps =2\n",
      "\t\tSpilled Records=12\n",
      "\t\tTotal committed heap usage (bytes)=553123840\n",
      "\t\tVirtual memory (bytes) snapshot=0\n",
      "\tShuffle Errors\n",
      "\t\tBAD_ID=0\n",
      "\t\tCONNECTION=0\n",
      "\t\tIO_ERROR=0\n",
      "\t\tWRONG_LENGTH=0\n",
      "\t\tWRONG_MAP=0\n",
      "\t\tWRONG_REDUCE=0\n",
      "Streaming final output from hdfs:///user/koza/tmp/mrjob/similarity.koza.20170216.000635.868994/output...\n",
      "Removing HDFS temp directory hdfs:///user/koza/tmp/mrjob/similarity.koza.20170216.000635.868994...\n",
      "Removing temp directory /var/folders/2f/rb8qqgd55bl77zgchyxsfl7h0000gp/T/similarity.koza.20170216.000635.868994...\n"
     ]
    }
   ],
   "source": [
    "!python similarity.py -r hadoop systems_test_index_2 > systems_test_similarities_2"
   ]
  },
  {
   "cell_type": "code",
   "execution_count": 23,
   "metadata": {
    "collapsed": false,
    "scrolled": true
   },
   "outputs": [
    {
     "name": "stdout",
     "output_type": "stream",
     "text": [
      "Using configs in /etc/mrjob.conf\n",
      "Creating temp directory /var/folders/2f/rb8qqgd55bl77zgchyxsfl7h0000gp/T/similarity.koza.20170216.000725.377664\n",
      "Looking for hadoop binary in $PATH...\n",
      "Found hadoop binary: /usr/local/bin/hadoop\n",
      "Using Hadoop version 2.7.2\n",
      "Copying local files to hdfs:///user/koza/tmp/mrjob/similarity.koza.20170216.000725.377664/files/...\n",
      "Detected hadoop configuration property names that do not match hadoop version 2.7.2:\n",
      "The have been translated as follows\n",
      " mapred.output.key.comparator.class: mapreduce.job.output.key.comparator.class\n",
      "mapred.text.key.comparator.options: mapreduce.partition.keycomparator.options\n",
      "mapred.text.key.partitioner.options: mapreduce.partition.keypartitioner.options\n",
      "Running step 1 of 2...\n",
      "  packageJobJar: [/var/folders/2f/rb8qqgd55bl77zgchyxsfl7h0000gp/T/hadoop-unjar3356420059545153838/] [] /var/folders/2f/rb8qqgd55bl77zgchyxsfl7h0000gp/T/streamjob2317842983873370309.jar tmpDir=null\n",
      "  Connecting to ResourceManager at /0.0.0.0:8032\n",
      "  Connecting to ResourceManager at /0.0.0.0:8032\n",
      "  Total input paths to process : 1\n",
      "  number of splits:2\n",
      "  mapred.text.key.partitioner.options is deprecated. Instead, use mapreduce.partition.keypartitioner.options\n",
      "  Submitting tokens for job: job_1486380608198_0051\n",
      "  Submitted application application_1486380608198_0051\n",
      "  The url to track the job: http://localhost:8088/proxy/application_1486380608198_0051/\n",
      "  Running job: job_1486380608198_0051\n",
      "  Job job_1486380608198_0051 running in uber mode : false\n",
      "   map 0% reduce 0%\n",
      "   map 100% reduce 0%\n",
      "   map 100% reduce 100%\n",
      "  Job job_1486380608198_0051 completed successfully\n",
      "  Output directory: hdfs:///user/koza/tmp/mrjob/similarity.koza.20170216.000725.377664/step-output/0000\n",
      "Counters: 49\n",
      "\tFile Input Format Counters \n",
      "\t\tBytes Read=213\n",
      "\tFile Output Format Counters \n",
      "\t\tBytes Written=270\n",
      "\tFile System Counters\n",
      "\t\tFILE: Number of bytes read=111\n",
      "\t\tFILE: Number of bytes written=369329\n",
      "\t\tFILE: Number of large read operations=0\n",
      "\t\tFILE: Number of read operations=0\n",
      "\t\tFILE: Number of write operations=0\n",
      "\t\tHDFS: Number of bytes read=531\n",
      "\t\tHDFS: Number of bytes written=270\n",
      "\t\tHDFS: Number of large read operations=0\n",
      "\t\tHDFS: Number of read operations=9\n",
      "\t\tHDFS: Number of write operations=2\n",
      "\tJob Counters \n",
      "\t\tData-local map tasks=2\n",
      "\t\tLaunched map tasks=2\n",
      "\t\tLaunched reduce tasks=1\n",
      "\t\tTotal megabyte-milliseconds taken by all map tasks=4855808\n",
      "\t\tTotal megabyte-milliseconds taken by all reduce tasks=2168832\n",
      "\t\tTotal time spent by all map tasks (ms)=4742\n",
      "\t\tTotal time spent by all maps in occupied slots (ms)=4742\n",
      "\t\tTotal time spent by all reduce tasks (ms)=2118\n",
      "\t\tTotal time spent by all reduces in occupied slots (ms)=2118\n",
      "\t\tTotal vcore-milliseconds taken by all map tasks=4742\n",
      "\t\tTotal vcore-milliseconds taken by all reduce tasks=2118\n",
      "\tMap-Reduce Framework\n",
      "\t\tCPU time spent (ms)=0\n",
      "\t\tCombine input records=0\n",
      "\t\tCombine output records=0\n",
      "\t\tFailed Shuffles=0\n",
      "\t\tGC time elapsed (ms)=118\n",
      "\t\tInput split bytes=318\n",
      "\t\tMap input records=5\n",
      "\t\tMap output bytes=95\n",
      "\t\tMap output materialized bytes=117\n",
      "\t\tMap output records=5\n",
      "\t\tMerged Map outputs=2\n",
      "\t\tPhysical memory (bytes) snapshot=0\n",
      "\t\tReduce input groups=3\n",
      "\t\tReduce input records=5\n",
      "\t\tReduce output records=3\n",
      "\t\tReduce shuffle bytes=117\n",
      "\t\tShuffled Maps =2\n",
      "\t\tSpilled Records=10\n",
      "\t\tTotal committed heap usage (bytes)=552599552\n",
      "\t\tVirtual memory (bytes) snapshot=0\n",
      "\tShuffle Errors\n",
      "\t\tBAD_ID=0\n",
      "\t\tCONNECTION=0\n",
      "\t\tIO_ERROR=0\n",
      "\t\tWRONG_LENGTH=0\n",
      "\t\tWRONG_MAP=0\n",
      "\t\tWRONG_REDUCE=0\n",
      "Detected hadoop configuration property names that do not match hadoop version 2.7.2:\n",
      "The have been translated as follows\n",
      " mapred.text.key.partitioner.options: mapreduce.partition.keypartitioner.options\n",
      "Running step 2 of 2...\n",
      "  packageJobJar: [/var/folders/2f/rb8qqgd55bl77zgchyxsfl7h0000gp/T/hadoop-unjar6074918132908433414/] [] /var/folders/2f/rb8qqgd55bl77zgchyxsfl7h0000gp/T/streamjob7559920027939480722.jar tmpDir=null\n",
      "  Connecting to ResourceManager at /0.0.0.0:8032\n",
      "  Connecting to ResourceManager at /0.0.0.0:8032\n",
      "  Total input paths to process : 1\n",
      "  number of splits:2\n",
      "  mapred.text.key.partitioner.options is deprecated. Instead, use mapreduce.partition.keypartitioner.options\n",
      "  Submitting tokens for job: job_1486380608198_0052\n",
      "  Submitted application application_1486380608198_0052\n",
      "  The url to track the job: http://localhost:8088/proxy/application_1486380608198_0052/\n",
      "  Running job: job_1486380608198_0052\n",
      "  Job job_1486380608198_0052 running in uber mode : false\n",
      "   map 0% reduce 0%\n",
      "   map 100% reduce 0%\n",
      "   map 100% reduce 100%\n",
      "  Job job_1486380608198_0052 completed successfully\n",
      "  Output directory: hdfs:///user/koza/tmp/mrjob/similarity.koza.20170216.000725.377664/output\n",
      "Counters: 49\n",
      "\tFile Input Format Counters \n",
      "\t\tBytes Read=405\n",
      "\tFile Output Format Counters \n",
      "\t\tBytes Written=270\n",
      "\tFile System Counters\n",
      "\t\tFILE: Number of bytes read=285\n",
      "\t\tFILE: Number of bytes written=370493\n",
      "\t\tFILE: Number of large read operations=0\n",
      "\t\tFILE: Number of read operations=0\n",
      "\t\tFILE: Number of write operations=0\n",
      "\t\tHDFS: Number of bytes read=725\n",
      "\t\tHDFS: Number of bytes written=270\n",
      "\t\tHDFS: Number of large read operations=0\n",
      "\t\tHDFS: Number of read operations=9\n",
      "\t\tHDFS: Number of write operations=2\n",
      "\tJob Counters \n",
      "\t\tData-local map tasks=2\n",
      "\t\tLaunched map tasks=2\n",
      "\t\tLaunched reduce tasks=1\n",
      "\t\tTotal megabyte-milliseconds taken by all map tasks=4661248\n",
      "\t\tTotal megabyte-milliseconds taken by all reduce tasks=2073600\n",
      "\t\tTotal time spent by all map tasks (ms)=4552\n",
      "\t\tTotal time spent by all maps in occupied slots (ms)=4552\n",
      "\t\tTotal time spent by all reduce tasks (ms)=2025\n",
      "\t\tTotal time spent by all reduces in occupied slots (ms)=2025\n",
      "\t\tTotal vcore-milliseconds taken by all map tasks=4552\n",
      "\t\tTotal vcore-milliseconds taken by all reduce tasks=2025\n",
      "\tMap-Reduce Framework\n",
      "\t\tCPU time spent (ms)=0\n",
      "\t\tCombine input records=0\n",
      "\t\tCombine output records=0\n",
      "\t\tFailed Shuffles=0\n",
      "\t\tGC time elapsed (ms)=121\n",
      "\t\tInput split bytes=320\n",
      "\t\tMap input records=3\n",
      "\t\tMap output bytes=273\n",
      "\t\tMap output materialized bytes=291\n",
      "\t\tMap output records=3\n",
      "\t\tMerged Map outputs=2\n",
      "\t\tPhysical memory (bytes) snapshot=0\n",
      "\t\tReduce input groups=3\n",
      "\t\tReduce input records=3\n",
      "\t\tReduce output records=3\n",
      "\t\tReduce shuffle bytes=291\n",
      "\t\tShuffled Maps =2\n",
      "\t\tSpilled Records=6\n",
      "\t\tTotal committed heap usage (bytes)=553123840\n",
      "\t\tVirtual memory (bytes) snapshot=0\n",
      "\tShuffle Errors\n",
      "\t\tBAD_ID=0\n",
      "\t\tCONNECTION=0\n",
      "\t\tIO_ERROR=0\n",
      "\t\tWRONG_LENGTH=0\n",
      "\t\tWRONG_MAP=0\n",
      "\t\tWRONG_REDUCE=0\n",
      "Streaming final output from hdfs:///user/koza/tmp/mrjob/similarity.koza.20170216.000725.377664/output...\n",
      "Removing HDFS temp directory hdfs:///user/koza/tmp/mrjob/similarity.koza.20170216.000725.377664...\n",
      "Removing temp directory /var/folders/2f/rb8qqgd55bl77zgchyxsfl7h0000gp/T/similarity.koza.20170216.000725.377664...\n"
     ]
    }
   ],
   "source": [
    "!python similarity.py -r hadoop systems_test_index_3 > systems_test_similarities_3"
   ]
  },
  {
   "cell_type": "code",
   "execution_count": 27,
   "metadata": {
    "collapsed": false
   },
   "outputs": [
    {
     "name": "stdout",
     "output_type": "stream",
     "text": [
      "——————————————————————————————————————————————————————————————————————————————————————————————————————————————\n",
      "Systems test  1  - Similarity measures\n",
      "——————————————————————————————————————————————————————————————————————————————————————————————————————————————\n",
      "        average |           pair |         cosine |        jaccard |        overlap |           dice\n",
      "--------------------------------------------------------------------------------------------------------------\n",
      "       1.000000 |female - limited |       1.000000 |       1.000000 |       1.000000 |       1.000000\n",
      "       0.868292 |  fairy - forms |       0.866025 |       0.750000 |       1.000000 |       0.857143\n",
      "       0.868292 |  forms - tales |       0.866025 |       0.750000 |       1.000000 |       0.857143\n",
      "       0.830357 |   case - study |       0.857143 |       0.750000 |       0.857143 |       0.857143\n",
      "       0.712500 |bill - establishing |       0.750000 |       0.600000 |       0.750000 |       0.750000\n",
      "       0.712500 |christmas - wales |       0.750000 |       0.600000 |       0.750000 |       0.750000\n",
      "       0.712500 |circumstantial - narrative |       0.750000 |       0.600000 |       0.750000 |       0.750000\n",
      "       0.712500 |       by - sea |       0.750000 |       0.600000 |       0.750000 |       0.750000\n",
      "       0.712500 |      by - city |       0.750000 |       0.600000 |       0.750000 |       0.750000\n",
      "       0.712500 |child's - wales |       0.750000 |       0.600000 |       0.750000 |       0.750000\n",
      "——————————————————————————————————————————————————————————————————————————————————————————————————————————————\n",
      "Systems test  2  - Similarity measures\n",
      "——————————————————————————————————————————————————————————————————————————————————————————————————————————————\n",
      "        average |           pair |         cosine |        jaccard |        overlap |           dice\n",
      "--------------------------------------------------------------------------------------------------------------\n",
      "       1.000000 |   atlas - cava |       1.000000 |       1.000000 |       1.000000 |       1.000000\n",
      "       0.625000 |  boon - dipped |       0.666667 |       0.500000 |       0.666667 |       0.666667\n",
      "       0.389562 |  cava - dipped |       0.408248 |       0.250000 |       0.500000 |       0.400000\n",
      "       0.389562 |    boon - cava |       0.408248 |       0.250000 |       0.500000 |       0.400000\n",
      "       0.389562 | atlas - dipped |       0.408248 |       0.250000 |       0.500000 |       0.400000\n",
      "       0.389562 |   atlas - boon |       0.408248 |       0.250000 |       0.500000 |       0.400000\n",
      "——————————————————————————————————————————————————————————————————————————————————————————————————————————————\n",
      "Systems test  3  - Similarity measures\n",
      "——————————————————————————————————————————————————————————————————————————————————————————————————————————————\n",
      "        average |           pair |         cosine |        jaccard |        overlap |           dice\n",
      "--------------------------------------------------------------------------------------------------------------\n",
      "       0.820791 |    DocA - DocB |       0.816497 |       0.666667 |       1.000000 |       0.800000\n",
      "       0.553861 |    DocA - DocC |       0.577350 |       0.400000 |       0.666667 |       0.571429\n",
      "       0.346722 |    DocB - DocC |       0.353553 |       0.200000 |       0.500000 |       0.333333\n"
     ]
    }
   ],
   "source": [
    "############################################\n",
    "# Pretty print systems tests\n",
    "############################################\n",
    "\n",
    "import json\n",
    "for i in range(1,4):\n",
    "  print '—'*110\n",
    "  print \"Systems test \",i,\" - Similarity measures\"\n",
    "  print '—'*110\n",
    "  print \"{0:>15} |{1:>15} |{2:>15} |{3:>15} |{4:>15} |{5:>15}\".format(\n",
    "          \"average\", \"pair\", \"cosine\", \"jaccard\", \"overlap\", \"dice\")\n",
    "  print '-'*110\n",
    "  \n",
    "  with open(\"systems_test_similarities_\"+str(i),\"r\") as f:\n",
    "      # only print the first 10 lines\n",
    "      lin = 0\n",
    "      lines = f.readlines()\n",
    "      \n",
    "      for line in lines:\n",
    "          line = line.strip()\n",
    "          avg,stripe = line.split(\"\\t\")\n",
    "          stripe = json.loads(stripe)\n",
    "          if lin < 10:\n",
    "            print \"{0:>15f} |{1:>15} |{2:>15f} |{3:>15f} |{4:>15f} |{5:>15f}\".format(\n",
    "                float(avg), stripe[0], float(stripe[1]), float(stripe[2]), float(stripe[3]), float(stripe[4]))\n",
    "            lin += 1"
   ]
  },
  {
   "cell_type": "markdown",
   "metadata": {
    "collapsed": true
   },
   "source": [
    "# === END OF PHASE 1 ==="
   ]
  },
  {
   "cell_type": "code",
   "execution_count": null,
   "metadata": {
    "collapsed": true
   },
   "outputs": [],
   "source": []
  }
 ],
 "metadata": {
  "anaconda-cloud": {},
  "kernelspec": {
   "display_name": "Python 2",
   "language": "python",
   "name": "python2"
  },
  "language_info": {
   "codemirror_mode": {
    "name": "ipython",
    "version": 2
   },
   "file_extension": ".py",
   "mimetype": "text/x-python",
   "name": "python",
   "nbconvert_exporter": "python",
   "pygments_lexer": "ipython2",
   "version": "2.7.11"
  },
  "toc": {
   "colors": {
    "hover_highlight": "#DAA520",
    "running_highlight": "#FF0000",
    "selected_highlight": "#FFD700"
   },
   "moveMenuLeft": true,
   "nav_menu": {
    "height": "491px",
    "width": "252px"
   },
   "navigate_menu": true,
   "number_sections": true,
   "sideBar": false,
   "threshold": 4,
   "toc_cell": true,
   "toc_section_display": "block",
   "toc_window_display": true
  }
 },
 "nbformat": 4,
 "nbformat_minor": 0
}
