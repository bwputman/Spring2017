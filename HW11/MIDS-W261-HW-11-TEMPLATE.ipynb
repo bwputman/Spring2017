{
 "cells": [
  {
   "cell_type": "markdown",
   "metadata": {
    "toc": "true"
   },
   "source": [
    "# Table of Contents\n",
    " <p><div class=\"lev1 toc-item\"><a data-toc-modified-id=\"-MIDS---w261-Machine-Learning-At-Scale--1\" href=\"#-MIDS---w261-Machine-Learning-At-Scale-\"><span class=\"toc-item-num\">1&nbsp;&nbsp;</span> MIDS - w261 Machine Learning At Scale </a></div><div class=\"lev2 toc-item\"><a data-toc-modified-id=\"Assignment---HW11-11\" href=\"#Assignment---HW11\"><span class=\"toc-item-num\">1.1&nbsp;&nbsp;</span>Assignment - HW11</a></div><div class=\"lev1 toc-item\"><a data-toc-modified-id=\"Instructions-2\" href=\"#Instructions\"><span class=\"toc-item-num\">2&nbsp;&nbsp;</span>Instructions</a></div><div class=\"lev2 toc-item\"><a data-toc-modified-id=\"IMPORTANT-21\" href=\"#IMPORTANT\"><span class=\"toc-item-num\">2.1&nbsp;&nbsp;</span>IMPORTANT</a></div><div class=\"lev3 toc-item\"><a data-toc-modified-id=\"===-INSTRUCTIONS-for-SUBMISSIONS-===-211\" href=\"#===-INSTRUCTIONS-for-SUBMISSIONS-===\"><span class=\"toc-item-num\">2.1.1&nbsp;&nbsp;</span>=== INSTRUCTIONS for SUBMISSIONS ===</a></div><div class=\"lev1 toc-item\"><a data-toc-modified-id=\"2-Useful-References-3\" href=\"#2-Useful-References\"><span class=\"toc-item-num\">3&nbsp;&nbsp;</span>2 Useful References</a></div><div class=\"lev1 toc-item\"><a data-toc-modified-id=\"HW-Problems-4\" href=\"#HW-Problems\"><span class=\"toc-item-num\">4&nbsp;&nbsp;</span>HW Problems</a></div><div class=\"lev2 toc-item\"><a data-toc-modified-id=\"HW11.0:-Broadcast-versus-Caching-in-Spark-41\" href=\"#HW11.0:-Broadcast-versus-Caching-in-Spark\"><span class=\"toc-item-num\">4.1&nbsp;&nbsp;</span>HW11.0: Broadcast versus Caching in Spark</a></div><div class=\"lev2 toc-item\"><a data-toc-modified-id=\"HW11.1-Loss-Functions-42\" href=\"#HW11.1-Loss-Functions\"><span class=\"toc-item-num\">4.2&nbsp;&nbsp;</span>HW11.1 Loss Functions</a></div><div class=\"lev3 toc-item\"><a data-toc-modified-id=\"Response:-421\" href=\"#Response:\"><span class=\"toc-item-num\">4.2.1&nbsp;&nbsp;</span>Response:</a></div><div class=\"lev2 toc-item\"><a data-toc-modified-id=\"HW11.2-Gradient-descent-43\" href=\"#HW11.2-Gradient-descent\"><span class=\"toc-item-num\">4.3&nbsp;&nbsp;</span>HW11.2 Gradient descent</a></div><div class=\"lev3 toc-item\"><a data-toc-modified-id=\"Response-431\" href=\"#Response\"><span class=\"toc-item-num\">4.3.1&nbsp;&nbsp;</span>Response</a></div><div class=\"lev2 toc-item\"><a data-toc-modified-id=\"HW11.3-Logistic-Regression-44\" href=\"#HW11.3-Logistic-Regression\"><span class=\"toc-item-num\">4.4&nbsp;&nbsp;</span>HW11.3 Logistic Regression</a></div><div class=\"lev3 toc-item\"><a data-toc-modified-id=\"Response-441\" href=\"#Response\"><span class=\"toc-item-num\">4.4.1&nbsp;&nbsp;</span>Response</a></div><div class=\"lev2 toc-item\"><a data-toc-modified-id=\"HW11.4-SVMs-45\" href=\"#HW11.4-SVMs\"><span class=\"toc-item-num\">4.5&nbsp;&nbsp;</span>HW11.4 SVMs</a></div><div class=\"lev3 toc-item\"><a data-toc-modified-id=\"Response-451\" href=\"#Response\"><span class=\"toc-item-num\">4.5.1&nbsp;&nbsp;</span>Response</a></div><div class=\"lev2 toc-item\"><a data-toc-modified-id=\"HW11.5--[OPTIONAL]-Distributed-Perceptron-algorithm.-46\" href=\"#HW11.5--[OPTIONAL]-Distributed-Perceptron-algorithm.\"><span class=\"toc-item-num\">4.6&nbsp;&nbsp;</span>HW11.5  [OPTIONAL] Distributed Perceptron algorithm.</a></div><div class=\"lev2 toc-item\"><a data-toc-modified-id=\"HW11.6-[OPTIONAL:-consider-doing-this-in-a-group]--Evalution-of-perceptron-algorihtms-on-PennTreeBank-POS-corpus-47\" href=\"#HW11.6-[OPTIONAL:-consider-doing-this-in-a-group]--Evalution-of-perceptron-algorihtms-on-PennTreeBank-POS-corpus\"><span class=\"toc-item-num\">4.7&nbsp;&nbsp;</span>HW11.6 [OPTIONAL: consider doing this in a group]  Evalution of perceptron algorihtms on PennTreeBank POS corpus</a></div><div class=\"lev2 toc-item\"><a data-toc-modified-id=\"HW11.7-[OPTIONAL:-consider-doing-this-in-a-group]-Kernel-Adatron-48\" href=\"#HW11.7-[OPTIONAL:-consider-doing-this-in-a-group]-Kernel-Adatron\"><span class=\"toc-item-num\">4.8&nbsp;&nbsp;</span>HW11.7 [OPTIONAL: consider doing this in a group] Kernel Adatron</a></div><div class=\"lev2 toc-item\"><a data-toc-modified-id=\"HW11.8-[OPTIONAL]-Create-an-animation-of-gradient-descent-for-the-Perceptron-learning-or-for-the-logistic-regression-49\" href=\"#HW11.8-[OPTIONAL]-Create-an-animation-of-gradient-descent-for-the-Perceptron-learning-or-for-the-logistic-regression\"><span class=\"toc-item-num\">4.9&nbsp;&nbsp;</span>HW11.8 [OPTIONAL] Create an animation of gradient descent for the Perceptron learning or for the logistic regression</a></div><div class=\"lev1 toc-item\"><a data-toc-modified-id=\"---------ALTERNATIVE-HOWEWORK----------5\" href=\"#---------ALTERNATIVE-HOWEWORK---------\"><span class=\"toc-item-num\">5&nbsp;&nbsp;</span>-------  ALTERNATIVE HOWEWORK --------</a></div>"
   ]
  },
  {
   "cell_type": "code",
   "execution_count": 51,
   "metadata": {
    "collapsed": false
   },
   "outputs": [
    {
     "data": {
      "application/javascript": [
       "/**********************************************************************************************\n",
       "Known Mathjax Issue with Chrome - a rounding issue adds a border to the right of mathjax markup\n",
       "https://github.com/mathjax/MathJax/issues/1300\n",
       "A quick hack to fix this based on stackoverflow discussions: \n",
       "http://stackoverflow.com/questions/34277967/chrome-rendering-mathjax-equations-with-a-trailing-vertical-line\n",
       "**********************************************************************************************/\n",
       "\n",
       "$('.math>span').css(\"border-left-color\",\"transparent\")"
      ],
      "text/plain": [
       "<IPython.core.display.Javascript object>"
      ]
     },
     "metadata": {},
     "output_type": "display_data"
    }
   ],
   "source": [
    "%%javascript\n",
    "/**********************************************************************************************\n",
    "Known Mathjax Issue with Chrome - a rounding issue adds a border to the right of mathjax markup\n",
    "https://github.com/mathjax/MathJax/issues/1300\n",
    "A quick hack to fix this based on stackoverflow discussions: \n",
    "http://stackoverflow.com/questions/34277967/chrome-rendering-mathjax-equations-with-a-trailing-vertical-line\n",
    "**********************************************************************************************/\n",
    "\n",
    "$('.math>span').css(\"border-left-color\",\"transparent\")"
   ]
  },
  {
   "cell_type": "code",
   "execution_count": 52,
   "metadata": {
    "collapsed": true
   },
   "outputs": [],
   "source": [
    "%reload_ext autoreload\n",
    "%autoreload 2"
   ]
  },
  {
   "cell_type": "markdown",
   "metadata": {},
   "source": [
    "<h1> MIDS - w261 Machine Learning At Scale </h1>\n",
    "__Course Lead:__ Dr James G. Shanahan (__email__ Jimi via  James.Shanahan _AT_ gmail.com)\n",
    "\n",
    "<h2>Assignment - HW11</h2>\n",
    "\n",
    "\n",
    "---\n",
    "__Name:__  *Your Name Goes Here*   \n",
    "__Class:__ MIDS w261 (Section *Your Section Goes Here*, e.g., Fall 2016 Group 1)     \n",
    "__Email:__  *Your UC Berkeley Email Goes Here*@iSchool.Berkeley.edu     \n",
    "__StudentId__  123457    __End of StudentId__     \n",
    "__Week:__   11\n",
    "\n",
    "__NOTE:__ please replace `1234567` with your student id above      \n",
    "__Due Time:__ HW is due the Wednesday of the following week by 8AM (West coast time). I.e., Wednesday, April 12, 2017 in the case of this homework. \n",
    "\n",
    "# Instructions\n",
    "\n",
    "MIDS UC Berkeley, Machine Learning at Scale   \n",
    "DATSCIW261 ASSIGNMENT #11\n",
    "\n",
    "Version 2017-3-16 \n",
    "\n",
    "\n",
    "## IMPORTANT\n",
    "\n",
    "This homework can be completed locally on your computer.\n",
    "\n",
    "### === INSTRUCTIONS for SUBMISSIONS ===   \n",
    "Follow the instructions for submissions carefully.\n",
    "\n",
    "Each student has a `HW-<user>` repository for all assignments.   \n",
    "\n",
    "Click this link to enable you to create a github repo within the MIDS261 Classroom:   \n",
    "https://classroom.github.com/assignment-invitations/3b1d6c8e58351209f9dd865537111ff8   \n",
    "and follow the instructions to create a HW repo.\n",
    "\n",
    "Push the following to your HW github repo into the master branch:\n",
    "* Your local HW6 directory. Your repo file structure should look like this:\n",
    "\n",
    "```\n",
    "HW-<user>\n",
    "    --HW3\n",
    "       |__MIDS-W261-HW-03-<Student_id>.ipynb\n",
    "       |__MIDS-W261-HW-03-<Student_id>.pdf\n",
    "       |__some other hw3 file\n",
    "    --HW4\n",
    "       |__MIDS-W261-HW-04-<Student_id>.ipynb\n",
    "       |__MIDS-W261-HW-04-<Student_id>.pdf\n",
    "       |__some other hw4 file\n",
    "    etc..\n",
    "```    "
   ]
  },
  {
   "cell_type": "markdown",
   "metadata": {},
   "source": [
    "# 2 Useful References\n",
    "\n",
    "* Karau, Holden, Konwinski, Andy, Wendell, Patrick, & Zaharia, Matei. (2015). Learning Spark: Lightning-fast big data analysis. Sebastopol, CA: O’Reilly Publishers.\n",
    "* Hastie, Trevor, Tibshirani, Robert, & Friedman, Jerome. (2009). The elements of statistical learning: Data mining, inference, and prediction (2nd ed.). Stanford, CA: Springer Science+Business Media. (Download for free [here](http://statweb.stanford.edu/~tibs/ElemStatLearn/printings/ESLII_print10.pdf))\n",
    "* https://www.dropbox.com/s/ngomebw1koujs2d/classificationISLBook-Logistic-Regression-LDA-NaiveBayes.pdf?dl=0"
   ]
  },
  {
   "cell_type": "markdown",
   "metadata": {},
   "source": [
    "# HW Problems\n"
   ]
  },
  {
   "cell_type": "markdown",
   "metadata": {},
   "source": [
    "## HW11.0: Broadcast versus Caching in Spark \n",
    "\n",
    "\n",
    "Q: __What is the difference between broadcasting and caching data in Spark? Give an example (in the context of machine learning) of each mechanism (at a highlevel). Feel free to cut and paste code examples from the lectures to support your answer.__\n",
    "\n",
    "Q: __Review the following Spark-notebook-based implementation of KMeans and use the broadcast pattern to make this implementation more efficient. Please describe your changes in English first, implement, comment your code and highlight your changes (write all your code in this notebook):___\n",
    "\n",
    "Notebook\n",
    "https://www.dropbox.com/s/41q9lgyqhy8ed5g/EM-Kmeans.ipynb?dl=0\n",
    "\n",
    "Notebook via NBViewer\n",
    "http://nbviewer.ipython.org/urls/dl.dropbox.com/s/41q9lgyqhy8ed5g/EM-Kmeans.ipynb\n"
   ]
  },
  {
   "cell_type": "code",
   "execution_count": null,
   "metadata": {
    "collapsed": true
   },
   "outputs": [],
   "source": [
    "# START STUDENT CODE 11.0\n",
    "# (ADD CELLS AS NEEDED)\n",
    "\n",
    "# END STUDENT CODE 11.0"
   ]
  },
  {
   "cell_type": "markdown",
   "metadata": {},
   "source": [
    "## HW11.1 Loss Functions\n",
    "\n",
    " \n",
    "In the context of binary classification problems, does the linear SVM learning algorithm yield the same result as a L2 penalized logistic regesssion learning algorithm? \n",
    "\n",
    "In your reponse, please discuss the loss functions, and the learnt models, and separating surfaces between the two classes.\n",
    "\n",
    "\n",
    "In the context of binary classification problems, does the linear SVM learning algorithm yield the same result as a perceptron learning algorithm? \n",
    "\n",
    "[OPTIONAL]: generate an artifical binary classification dataset with 2 input features and plot the learnt separating surface for both a linear SVM and for  logistic regression. Comment on the learnt surfaces. Please feel free to do this in Python (no need to use Spark).\n"
   ]
  },
  {
   "cell_type": "markdown",
   "metadata": {},
   "source": [
    "### Response:\n"
   ]
  },
  {
   "cell_type": "code",
   "execution_count": 53,
   "metadata": {
    "collapsed": true
   },
   "outputs": [],
   "source": [
    "# START STUDENT CODE 11.1\n",
    "# (ADD CELLS AS NEEDED)\n",
    "\n",
    "# END STUDENT CODE 11.1"
   ]
  },
  {
   "cell_type": "markdown",
   "metadata": {},
   "source": [
    "## HW11.2 Gradient descent\n",
    "\n",
    "In the context of logistic regression describe and define three flavors of penalized loss functions.  Are these all supported in Spark MLLib (include online references to support your answers)?\n",
    "\n",
    "Describe probabilistic interpretations of the L1 and L2 priors for penalized logistic regression (HINT: see synchronous slides for week 11 for details)\n"
   ]
  },
  {
   "cell_type": "markdown",
   "metadata": {
    "collapsed": true
   },
   "source": [
    "### Response"
   ]
  },
  {
   "cell_type": "markdown",
   "metadata": {},
   "source": [
    "## HW11.3 Logistic Regression\n",
    "\n",
    "Generate 2 sets of linearly separable data with 100 data points each using the data generation code provided below and plot each in separate plots. Call one the training set and the other the testing set.\n",
    "\n",
    "```python\n",
    "def generateData(n):\n",
    " \"\"\" \n",
    "  generates a 2D linearly separable dataset with n samples. \n",
    "  The third element of the sample is the label\n",
    " \"\"\"\n",
    " xb = (rand(n)*2-1)/2-0.5\n",
    " yb = (rand(n)*2-1)/2+0.5\n",
    " xr = (rand(n)*2-1)/2+0.5\n",
    " yr = (rand(n)*2-1)/2-0.5\n",
    " inputs = []\n",
    " for i in range(len(xb)):\n",
    "  inputs.append([xb[i],yb[i],1])\n",
    "  inputs.append([xr[i],yr[i],-1])\n",
    " return inputs\n",
    "\n",
    "```\n",
    "Modify this data generation code to generating non-linearly separable training and testing datasets (with approximately 10% of the data falling on the wrong side of the separating hyperplane. Plot the resulting datasets. \n",
    "\n",
    "NOTE: For the remainder of this problem please use the non-linearly separable training and testing datasets.\n",
    "\n",
    "Using MLLib  train up a LASSO logistic regression model with the training dataset and evaluate with the testing set. What a good number of iterations for training the logistic regression model? Justify with plots and words. \n",
    "\n",
    "Derive and implement in Spark a weighted  LASSO logistic regression. Implement a convergence test of your choice to check for termination within your training algorithm . \n",
    "\n",
    "Weight the above training dataset as follows:  Weight each example using the inverse vector length (Euclidean norm): \n",
    "\n",
    ">weight(X)= 1/||X||, \n",
    "\n",
    ">where ||X|| = SQRT(X.X)= SQRT(X1^2 + X2^2)\n",
    "\n",
    ">Here X is vector made up of X1 and X2.\n",
    "\n",
    "Evaluate your homegrown weighted  LASSO logistic regression on the test dataset. Report misclassification error (1 - Accuracy) and how many iterations does it took to converge.\n",
    "\n",
    "Does Spark MLLib have a weighted LASSO logistic regression implementation. If so use it and report your findings on the weighted training set and test set. "
   ]
  },
  {
   "cell_type": "code",
   "execution_count": 59,
   "metadata": {
    "collapsed": true
   },
   "outputs": [],
   "source": [
    "# START STUDENT CODE 11.3\n",
    "# (ADD CELLS AS NEEDED)\n",
    "\n",
    "# END STUDENT CODE 11.3"
   ]
  },
  {
   "cell_type": "markdown",
   "metadata": {
    "collapsed": true
   },
   "source": [
    "### Response"
   ]
  },
  {
   "cell_type": "markdown",
   "metadata": {},
   "source": [
    "## HW11.4 SVMs\n",
    "\n",
    "Use the non-linearly separable training and testing datasets from HW11.3 in this problem.\n",
    "\n",
    "Using MLLib  train up a soft SVM model with the training dataset and evaluate with the testing set. What is a good number of iterations for training the SVM model? Justify with plots and words. \n",
    "\n",
    "__HW11.4.1 [Optional]__\n",
    "Derive and Implement in Spark a weighted hard linear svm classification learning algorithm. Feel free to use the following notebook as a starting point  \n",
    "> [SVM Notebook](http://nbviewer.jupyter.org/urls/dl.dropbox.com/s/dm2l73iznde7y4f/SVM-Notebook-Linear-Kernel-2015-06-19.ipynb).\n",
    "\n",
    "Evaluate your homegrown weighted  linear svm classification learning algorithm on the  weighted training dataset and test dataset from HW11.3 (linearly separable dataset). Report misclassification error (1 - Accuracy) and how many iterations does it took to converge?  How many support vectors do you end up with?\n",
    "\n",
    "Does Spark MLLib have a weighted soft SVM learner. If so use it and report your findings on the weighted training set and test set.  \n",
    "\n",
    "__HW11.4.2 [Optional]__\n",
    "Repeat HW11.4.2 using a soft SVM and a nonlinearly separable datasets. Compare the error rates that you get here with the error rates you achieve using MLLib's soft SVM. Report the number of support vectors in both cases (may not be available the MLLib implementation).\n"
   ]
  },
  {
   "cell_type": "code",
   "execution_count": null,
   "metadata": {
    "collapsed": true
   },
   "outputs": [],
   "source": [
    "# START STUDENT CODE 11.4\n",
    "# (ADD CELLS AS NEEDED)\n",
    "\n",
    "# END STUDENT CODE 11.4"
   ]
  },
  {
   "cell_type": "markdown",
   "metadata": {
    "collapsed": true
   },
   "source": [
    "### Response"
   ]
  },
  {
   "cell_type": "markdown",
   "metadata": {},
   "source": [
    "## HW11.5  [OPTIONAL] Distributed Perceptron algorithm.\n",
    "[Back to Table of Contents](#TOC)\n",
    "\n",
    "Using the following papers as background:\n",
    "http://static.googleusercontent.com/external_content/untrusted_dlcp/research.google.com/en//pubs/archive/36266.pdf\n",
    "\n",
    "https://www.dropbox.com/s/a5pdcp0r8ptudgj/gesmundo-tomeh-eacl-2012.pdf?dl=0\n",
    "\n",
    "http://www.slideshare.net/matsubaray/distributed-perceptron \n",
    "\n",
    "Implement each of the following flavors of perceptron learning algorithm:\n",
    "\n",
    "1. Serial (All Data): This is the classifier returned if trained serially on all the available data.  On a single computer for example (Mistake driven)\n",
    "2. Serial (Sub Sampling): Shard the data, select one shard randomly and train serially. \n",
    "3. Parallel (Parameter Mix): Learn a perceptron locally on each shard: \n",
    "Once learning is complete combine each learnt percepton using a uniform weighting\n",
    "4. Parallel (Iterative Parameter Mix) as described in the above papers."
   ]
  },
  {
   "cell_type": "code",
   "execution_count": 71,
   "metadata": {
    "collapsed": true
   },
   "outputs": [],
   "source": [
    "# START STUDENT CODE 11.5\n",
    "# (ADD CELLS AS NEEDED)\n",
    "\n",
    "# END STUDENT CODE 11.5"
   ]
  },
  {
   "cell_type": "markdown",
   "metadata": {},
   "source": [
    "## HW11.6 [OPTIONAL: consider doing this in a group]  Evalution of perceptron algorihtms on PennTreeBank POS corpus\n",
    "[Back to Table of Contents](#TOC)\n",
    "\n",
    "Reproduce the experiments reported in the following paper:\n",
    "\n",
    "*Prediction with MapReduce - Andrea Gesmundo and  Nadi Tomeh*\n",
    "\n",
    "http://www.aclweb.org/anthology/E12-2020 \n",
    "\n",
    "These experiments focus on the prediction accuracy on a part-of-speech\n",
    "(POS) task using the PennTreeBank corpus. They use sections 0-18 of the Wall\n",
    "Street Journal for training, and sections 22-24 for testing.\n",
    " "
   ]
  },
  {
   "cell_type": "code",
   "execution_count": null,
   "metadata": {
    "collapsed": true
   },
   "outputs": [],
   "source": [
    "# START STUDENT CODE 11.6\n",
    "# (ADD CELLS AS NEEDED)\n",
    "\n",
    "# END STUDENT CODE 11.6"
   ]
  },
  {
   "cell_type": "markdown",
   "metadata": {},
   "source": [
    "## HW11.7 [OPTIONAL: consider doing this in a group] Kernel Adatron \n",
    "\n",
    "Implement the Kernal Adatron in Spark (contact Jimi for details)"
   ]
  },
  {
   "cell_type": "code",
   "execution_count": null,
   "metadata": {
    "collapsed": true
   },
   "outputs": [],
   "source": [
    "# START STUDENT CODE 11.7\n",
    "# (ADD CELLS AS NEEDED)\n",
    "\n",
    "# END STUDENT CODE 11.7"
   ]
  },
  {
   "cell_type": "markdown",
   "metadata": {},
   "source": [
    "## HW11.8 [OPTIONAL] Create an animation of gradient descent for the Perceptron learning or for the logistic regression \n",
    "    \n",
    "Learning with the following 3 training examples. Present the progress in terms of the 2 dimensional input space in terms of a contour plot and also in terms of the 3D surface plot. See Live slides for an example.\n",
    "\n",
    "Here is a sample training dataset that can be used:\n",
    "```\n",
    "-2, 3, +1\n",
    "-1, -1, -1\n",
    "2, -3, 1\n",
    "```\n",
    "Please feel free to use \n",
    " + R (yes R!)\n",
    " + d3\n",
    " + https://plot.ly/python/\n",
    " + Matplotlib\n",
    "\n",
    "I am happy for folks to collaborate on HW11.8 also.\n",
    "\n",
    "It would be great to get the 3D surface and contours lines (with solution region and label normalized data) all in the same graph\n",
    "\n",
    "\n"
   ]
  },
  {
   "cell_type": "code",
   "execution_count": 1,
   "metadata": {
    "collapsed": true
   },
   "outputs": [],
   "source": [
    "# START STUDENT CODE 11.8\n",
    "# (ADD CELLS AS NEEDED)\n",
    "\n",
    "# END STUDENT CODE 11.8"
   ]
  },
  {
   "cell_type": "markdown",
   "metadata": {},
   "source": [
    "# -------  ALTERNATIVE HOWEWORK --------"
   ]
  },
  {
   "cell_type": "markdown",
   "metadata": {
    "collapsed": true
   },
   "source": [
    "- Implement a scaleable softmax classifier (aka multinomial logistic regression) in Spark (regularized and non-regularized)\n",
    "- Run experiments on MNIST dataset and for CIFAR dataset\n",
    "- And compare to MLLib implementations (accuracy, CPU times)\n"
   ]
  },
  {
   "cell_type": "code",
   "execution_count": null,
   "metadata": {
    "collapsed": true
   },
   "outputs": [],
   "source": []
  }
 ],
 "metadata": {
  "kernelspec": {
   "display_name": "Python 2",
   "language": "python",
   "name": "python2"
  },
  "language_info": {
   "codemirror_mode": {
    "name": "ipython",
    "version": 2
   },
   "file_extension": ".py",
   "mimetype": "text/x-python",
   "name": "python",
   "nbconvert_exporter": "python",
   "pygments_lexer": "ipython2",
   "version": "2.7.11"
  },
  "toc": {
   "colors": {
    "hover_highlight": "#DAA520",
    "running_highlight": "#FF0000",
    "selected_highlight": "#FFD700"
   },
   "moveMenuLeft": true,
   "nav_menu": {
    "height": "417px",
    "width": "252px"
   },
   "navigate_menu": true,
   "number_sections": true,
   "sideBar": false,
   "threshold": 4,
   "toc_cell": true,
   "toc_section_display": "block",
   "toc_window_display": true
  }
 },
 "nbformat": 4,
 "nbformat_minor": 0
}
